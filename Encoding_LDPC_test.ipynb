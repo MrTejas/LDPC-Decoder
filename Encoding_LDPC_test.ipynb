{
 "cells": [
  {
   "cell_type": "code",
   "execution_count": 1,
   "id": "feef0d46",
   "metadata": {},
   "outputs": [],
   "source": [
    "import numpy as np\n",
    "import random\n",
    "from Encoder import Encoder"
   ]
  },
  {
   "cell_type": "markdown",
   "id": "1523eb6a",
   "metadata": {},
   "source": [
    "### Example Usage"
   ]
  },
  {
   "cell_type": "code",
   "execution_count": 2,
   "id": "df5a6cde",
   "metadata": {},
   "outputs": [
    {
     "name": "stdout",
     "output_type": "stream",
     "text": [
      "message :\n",
      " [1 1 0 1 1 0 0 0 0 0 1 1 0 0 0 1 0 1 0 1 0 0 1 0 1 0 1 1 1 1 1 0 1 1 0 0 0\n",
      " 0 0 1 1 0 0 0 0 1 1 0 1 0 1 1 0 0 1 1 0 1 1 1 1 0 0 1 1 1 0 0 0 0 1 0 0 1\n",
      " 0 0 0 1 1 1 0 1 1 1 0 0 1 1 0 1 0 0 0 0 0 0 1 0 0 1 0 0 1 0 0 0 1 1 1 1 0\n",
      " 0 1 0 0 1 0 1 0 1 1 1 0 0 1 0 1 1 1 0 0 0 0 1 1 1 1 0 1 1 0 1 1 1 0 0 0 1\n",
      " 0 1 0 0 1 1 1 1 1 1 1 1 1 1 0 0 1 1 1 0 1 1 0 1 0 0 0 1 0 0 0 1 1 1 0 0 1\n",
      " 0 0 1 0 1 0 1 0 1 1 0 0 0 0 1 0 0 1 0 0 1 1 0 1 0 0 0 0 1 1 0 0 1 1 1 0 1\n",
      " 1 1 0 0 1 1 1 1 1 0 0 0 0 1 1 0 1 0 0 0 0 1 0 0 1 1 0 1 0 0 0 1 0 0 0 1 1\n",
      " 1 0 1 0 0]\n",
      "codeword :\n",
      " [1 1 0 1 1 0 0 0 0 0 1 1 0 0 0 1 0 1 0 1 0 0 1 0 1 0 1 1 1 1 1 0 1 1 0 0 0\n",
      " 0 0 1 1 0 0 0 0 1 1 0 1 0 1 1 0 0 1 1 0 1 1 1 1 0 0 1 1 1 0 0 0 0 1 0 0 1\n",
      " 0 0 0 1 1 1 0 1 1 1 0 0 1 1 0 1 0 0 0 0 0 0 1 0 0 1 0 0 1 0 0 0 1 1 1 1 0\n",
      " 0 1 0 0 1 0 1 0 1 1 1 0 0 1 0 1 1 1 0 0 0 0 1 1 1 1 0 1 1 0 1 1 1 0 0 0 1\n",
      " 0 1 0 0 1 1 1 1 1 1 1 1 1 1 0 0 1 1 1 0 1 1 0 1 0 0 0 1 0 0 0 1 1 1 0 0 1\n",
      " 0 0 1 0 1 0 1 0 1 1 0 0 0 0 1 0 0 1 0 0 1 1 0 1 0 0 0 0 1 1 0 0 1 1 1 0 1\n",
      " 1 1 0 0 1 1 1 1 1 0 0 0 0 1 1 0 1 0 0 0 0 1 0 0 1 1 0 1 0 0 0 1 0 0 0 1 1\n",
      " 1 0 1 0 0 1 1 1 1 0 1 0 0 0 1 0 1 0 1 1 1 0 1 1 1 1 1 1 1 0 0 1 0 1 1 0 1\n",
      " 1 1 1 0 0 0 0 1 0 1 1 1 1 1 0 0 0 1 1 1 0 0 0 0 0 1 0 0 1 0 1 1 0 0 1 0 0\n",
      " 1 1 0 0 0 0 1 0 0 0 1 0 0 0 1 1 0 0 1 0 0 0 0 0 1 1 1 1 0 0 1 0 0 1 1 0 0\n",
      " 1 0 1 0 0 1 0 0 0 0 1 1 1 0 1 0 0 1 0 0 1 1 0 1 1 0 0 0 1 1 0 1 0 0 1 1 0\n",
      " 1 1 1 0 1 1 1 1 0 0 0 0 1 0 1 1 1 1 0 1 1 0 1 1 0 0 1 0 1 1 1 1 1 1 0 1 1\n",
      " 0 0 1 1 1 1 0 0 1 0 1 0 0 1 0 1 1 0 0 1 0 1 1 1 0 1 0 1 1 1 1 0 1 1 0 0 1\n",
      " 1 0 0 1 0 0 0 1 1 1 0 0 0 1 0 0 0 1 0 1 1 0 0 0 0 1 1 1 1 1 0 1 0 1 1 1 0\n",
      " 0 0 0 0 1 0 1 1 1 1 1 1 1 0 0 0 1 0 1 1 1 1 1 1 1 0 0 1 1 0 0 1 1 1 0 0 1\n",
      " 1 0 0 0 0 1 0 1 1 1 1 0 1 1 0 0 1 1 0 1 1 0 0 0 0 1 1 1 0 0 1 1 1 1 0 1 1\n",
      " 1 0 0 1 1 1 0 0 0 1 1 1 1 1 1 1 0 1 1 0 1 1 0 0 0 0 0 1 1 0 0 0 0 0 1 0 0\n",
      " 0 1 1 1 1 0 1 0 1 1 1 0 1 0 1 1 0 0 0 1 0 1 1 1 1 1 1 0 1 1 1 0 0 1 1 1 0\n",
      " 1 0 1 1 1 1 0 0 0 0 0 0 0 0 0 1 0 1 0 1 1 1 1 0 1 0 1 0 0 1 1 1 1 0 0 0 0\n",
      " 0 1 0 1 0 1 1 1 0 1 1 0 0 1 0 1 1 1 1 0 1 1 0 1 0 0 1 1 0 0 1 0 1 0 0 1 0\n",
      " 1 1 0 1 1 1 1 0 1 0 1 0 1 1 1 0 0 1 1 1 1 1 0 1 1 1 0 1 0 0 0 1 1 1 1 1 0\n",
      " 0 0 1 1 1 1 0 1 1 1 0 0 0 0 0 0 0 0 1 1 0 1 1 1 1 1 0 0 0 0 0 0 0 0 0 0 0\n",
      " 0 0]\n"
     ]
    }
   ],
   "source": [
    "base_matrix_path = 'base_matrices/NR_1_1_48.txt'\n",
    "expansion_factor = 12\n",
    "en = Encoder(base_matrix_path,expansion_factor)\n",
    "\n",
    "# generating codeword for a random message vector\n",
    "msg = en.generate_random_message()\n",
    "codeword = en.encode(msg)\n",
    "print(\"message :\\n\",msg)\n",
    "print(\"codeword :\\n\",codeword)"
   ]
  },
  {
   "cell_type": "code",
   "execution_count": 3,
   "id": "66666535",
   "metadata": {},
   "outputs": [
    {
     "name": "stdout",
     "output_type": "stream",
     "text": [
      "Parity Check Matrix : \n",
      " [[0 0 0 ... 0 0 0]\n",
      " [0 0 0 ... 0 0 0]\n",
      " [0 0 0 ... 0 0 0]\n",
      " ...\n",
      " [0 0 0 ... 1 0 0]\n",
      " [0 0 0 ... 0 1 0]\n",
      " [0 0 0 ... 0 0 1]]\n"
     ]
    }
   ],
   "source": [
    "H = en.get_parity_check_matrix()\n",
    "print(\"Parity Check Matrix : \\n\",H)"
   ]
  },
  {
   "cell_type": "code",
   "execution_count": null,
   "id": "4581c8e7",
   "metadata": {},
   "outputs": [],
   "source": []
  }
 ],
 "metadata": {
  "kernelspec": {
   "display_name": "Python 3 (ipykernel)",
   "language": "python",
   "name": "python3"
  },
  "language_info": {
   "codemirror_mode": {
    "name": "ipython",
    "version": 3
   },
   "file_extension": ".py",
   "mimetype": "text/x-python",
   "name": "python",
   "nbconvert_exporter": "python",
   "pygments_lexer": "ipython3",
   "version": "3.11.5"
  }
 },
 "nbformat": 4,
 "nbformat_minor": 5
}
