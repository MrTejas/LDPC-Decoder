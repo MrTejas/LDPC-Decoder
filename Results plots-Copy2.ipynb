{
 "cells": [
  {
   "cell_type": "code",
   "execution_count": 1,
   "id": "ebe00a89",
   "metadata": {},
   "outputs": [],
   "source": [
    "import numpy as np\n",
    "import math\n",
    "import numpy as np\n",
    "import matplotlib.pyplot as plt\n",
    "from scipy.linalg import qr\n",
    "import itertools\n",
    "from scipy.special import erfc\n",
    "import galois\n",
    "# from Dec import Dec"
   ]
  },
  {
   "cell_type": "code",
   "execution_count": 2,
   "id": "d80acbaf",
   "metadata": {},
   "outputs": [],
   "source": [
    "import math\n",
    "import numpy as np\n",
    "\n",
    "class Decoder:\n",
    "    \n",
    "    def __init__ (self,H, channel_model, channel_parameters, num_iter,cluster_size):\n",
    "        # code parameters\n",
    "        self.n = H.shape[1]\n",
    "        self.k = self.n - H.shape[0]\n",
    "        self.H = H\n",
    "        self.model = channel_model\n",
    "        self.params = channel_parameters\n",
    "        self.num_iter = num_iter\n",
    "        \n",
    "        # misc parameters (epsilon : for numerical stability)\n",
    "        self.ep = 1e-5\n",
    "        \n",
    "        # graph parameters\n",
    "        self.num_VN = self.n\n",
    "        self.num_CN = self.n-self.k\n",
    "        self.cluster_size = cluster_size\n",
    "        \n",
    "        # adjacency list for VN and CN\n",
    "        self.CN = []\n",
    "        self.VN = []\n",
    "        self.construct_graph(H)\n",
    "        self.initialize_clusters(self.cluster_size)\n",
    "        self.iteration_number = 0\n",
    "        self.policy = None # policy for choosing clusters (using RL)\n",
    "        \n",
    "    # build the adjacency list for Tanner Graph\n",
    "    def construct_graph(self,H):\n",
    "        for i in range(self.num_CN):\n",
    "            temp = []\n",
    "            for j in range(self.num_VN):\n",
    "                if H[i,j]==1:\n",
    "                    temp.append(j)\n",
    "            self.CN.append(temp)\n",
    "            \n",
    "        for i in range(self.num_VN):\n",
    "            temp = []\n",
    "            for j in range(self.num_CN):\n",
    "                if H[j,i]==1:\n",
    "                    temp.append(j)\n",
    "            self.VN.append(temp)\n",
    "    \n",
    "    # print the tanner graph\n",
    "    def print_graph(self,mode):\n",
    "        if mode==\"matrix\":\n",
    "            print(self.H)\n",
    "        elif mode==\"list\":\n",
    "            print('CN : ',self.CN)\n",
    "            print('VN : ',self.VN)\n",
    "        else:\n",
    "            print('Invalid mode')\n",
    "    \n",
    "    \n",
    "    # initialize clusters of CNs\n",
    "    def initialize_clusters(self,cluster_size):\n",
    "        self.num_clusters = math.ceil(self.num_CN/cluster_size)\n",
    "        self.MI = np.zeros(self.num_clusters) # for storing current MI of clusters\n",
    "\n",
    "        self.clusters = []\n",
    "        for i in np.arange(0,self.num_CN,cluster_size):\n",
    "            temp = []\n",
    "            for j in range(i,min(i+cluster_size,self.num_CN)):\n",
    "                temp.append(j)\n",
    "            self.clusters.append(temp)  \n",
    "            \n",
    "\n",
    "                    \n",
    "    # returns the absolute min, 2nd min and parity of the input array\n",
    "    def get_min(self,arr):\n",
    "        arr = np.array(arr)\n",
    "        arr = arr[~np.isnan(arr)]\n",
    "        parity = np.prod(np.sign(arr))\n",
    "        if len(arr) < 2:\n",
    "            print(\"arr = \",arr)\n",
    "            raise ValueError(\"Not enough valid elements in the array.\")\n",
    "        arr = np.sort(np.abs(arr))\n",
    "        return arr[0],arr[1],parity\n",
    "    \n",
    "    # perform row update of cluster a \n",
    "    def row_update(self,a):\n",
    "        # subtract step (removing known beliefs)\n",
    "        for j in range(self.num_VN):\n",
    "            tot = 0\n",
    "            for i in self.clusters[a]:\n",
    "                if not np.isnan(self.L[i,j]):\n",
    "                    tot = tot + self.L[i,j]\n",
    "            self.sum[j] = self.sum[j] - tot\n",
    "\n",
    "        # flow down the sum into the cluster a\n",
    "        for j in range(self.num_VN):\n",
    "            for i in self.clusters[a]:\n",
    "                if not np.isnan(self.L[i,j]):\n",
    "                    self.L[i,j] = self.sum[j]\n",
    "\n",
    "        # perform minsum for each row\n",
    "        for i in self.clusters[a]:\n",
    "            m1,m2,p = self.get_min(self.L[i])\n",
    "            for j in range(self.num_VN):\n",
    "                if not np.isnan(self.L[i,j]):\n",
    "                    self.L[i,j] = p*np.sign(self.L[i,j])*m2 if np.abs(self.L[i,j])==m1 else p*np.sign(self.L[i,j])*m1\n",
    "\n",
    "    def col_update(self,a):\n",
    "        for j in range(self.num_VN):\n",
    "            tot = 0\n",
    "            for i in self.clusters[a]:\n",
    "                if not np.isnan(self.L[i,j]):\n",
    "                    tot = tot + self.L[i,j]\n",
    "            self.sum[j] = self.sum[j] + tot\n",
    "            \n",
    "    def pseudo_row_update(self,a):\n",
    "        # subtract step (removing known beliefs)\n",
    "        p_L = self.L\n",
    "        p_sum = self.sum\n",
    "        \n",
    "        for j in range(self.num_VN):\n",
    "            tot = 0\n",
    "            for i in self.clusters[a]:\n",
    "                if not np.isnan(p_L[i,j]):\n",
    "                    tot = tot + p_L[i,j]\n",
    "            p_sum[j] = p_sum[j] - tot\n",
    "\n",
    "        # flow down the sum into the cluster a\n",
    "        for j in range(self.num_VN):\n",
    "            for i in self.clusters[a]:\n",
    "                if not np.isnan(p_L[i,j]):\n",
    "                    p_L[i,j] = p_sum[j]\n",
    "\n",
    "        # perform minsum for each row\n",
    "        for i in self.clusters[a]:\n",
    "            m1,m2,p = self.get_min(p_L[i])\n",
    "            for j in range(self.num_VN):\n",
    "                if not np.isnan(p_L[i,j]):\n",
    "                    p_L[i,j] = p*np.sign(p_L[i,j])*m2 if np.abs(p_L[i,j])==m1 else p*np.sign(p_L[i,j])*m1\n",
    "        \n",
    "        return p_L, p_sum\n",
    "\n",
    "    def pseudo_col_update(self, a, p_L, p_sum):\n",
    "        for j in range(self.num_VN):\n",
    "            tot = 0\n",
    "            for i in self.clusters[a]:\n",
    "                if not np.isnan(p_L[i,j]):\n",
    "                    tot = tot + p_L[i,j]\n",
    "            p_sum[j] = p_sum[j] + tot\n",
    "        \n",
    "        return p_L\n",
    "\n",
    "\n",
    "    def decode(self,y,verbose=\"off\",scheduling=\"round-robin\"):\n",
    "        # sum is initialized by incoming beliefs (initial LLRs)\n",
    "        self.sum = y\n",
    "        \n",
    "        # initializing the storage matrix\n",
    "        self.L = np.full(self.H.shape, np.nan, dtype=float)  # Initialize with NaNs\n",
    "        for i in range(self.num_CN):\n",
    "            for j in range(self.num_VN):\n",
    "                self.L[i,j] = 0 if self.H[i,j]==1 else np.nan\n",
    "        \n",
    "        # initial MI approximation\n",
    "        self.MI = self.get_MI(self.L)\n",
    "        \n",
    "        for k in range(self.num_iter):\n",
    "            self.iteration_number = k\n",
    "            a = self.get_next_cluster(k,scheduling)\n",
    "            if verbose==\"on\":\n",
    "                print(\"Iteration : \",k,\"\\tCluster scheduled : \",a)\n",
    "            self.row_update(a)\n",
    "            self.col_update(a)\n",
    "            c_hat = np.array([1 if val<0 else 0 for val in self.sum])\n",
    "            if self.stopping_criteria(k,c_hat):\n",
    "                break\n",
    "        return c_hat\n",
    "    \n",
    "    def get_MI(self,L):\n",
    "        var = np.zeros(self.num_clusters)\n",
    "        for a in range(self.num_clusters):\n",
    "            total = 0\n",
    "            count = 0\n",
    "            for i in self.clusters[a]:\n",
    "                for j in self.CN[i]:\n",
    "                    total = total + np.abs(L[i,j])\n",
    "                    count = count + 1\n",
    "            mean = total/count\n",
    "            var[a] = mean*2\n",
    "        \n",
    "        MI = np.zeros(self.num_clusters)\n",
    "        for a in range(self.num_clusters):\n",
    "            MI[a] = self.J(var[a])\n",
    "        \n",
    "        return MI\n",
    "\n",
    "        \n",
    "    def J(self,sigma):\n",
    "        # constants\n",
    "        a_J1 = -0.0421061\n",
    "        b_J1 = 0.209252\n",
    "        c_J1 = -0.00640081\n",
    "\n",
    "        a_J2 = 0.00181491\n",
    "        b_J2 = -0.142675\n",
    "        c_J2 = -0.0822054\n",
    "        d_J2 = 0.0549608\n",
    "\n",
    "        # threshold sigma*\n",
    "        sigma_star = 1.6363\n",
    "        \n",
    "        if 0 <= sigma <= sigma_star:\n",
    "            return a_J1 * sigma**3 + b_J1 * sigma**2 + c_J1 * sigma\n",
    "        elif sigma_star < sigma < 10:\n",
    "            exponent = a_J2 * sigma**3 + b_J2 * sigma**2 + c_J2 * sigma + d_J2\n",
    "            return 1 - math.exp(exponent)\n",
    "        else:  # sigma >= 10\n",
    "            return 1\n",
    "\n",
    "            \n",
    "        \n",
    "    def stopping_criteria(self,k,c_hat):\n",
    "        c1 = k>self.num_iter\n",
    "        c2 = (np.sum(np.dot(self.H,c_hat.T)%2)==0)\n",
    "        return c1 or c2\n",
    "    \n",
    "    # calculates the difference between information metrics for cluster a\n",
    "    def calculate_residual(self, info, info_new, a):\n",
    "        return info_new[a] - info[a]\n",
    "    \n",
    "    def get_next_cluster(self,iter_number,scheduling):\n",
    "        # round robin\n",
    "        if scheduling==\"round-robin\":\n",
    "            return (iter_number%self.num_clusters)\n",
    "        \n",
    "        elif scheduling==\"residual-llr\":\n",
    "            llr_gains = np.zeros(self.num_clusters)\n",
    "            for a in range(self.num_clusters):\n",
    "                p_L, p_sum = self.pseudo_row_update(a)\n",
    "                max_diff = -100000\n",
    "                for j in self.CN[a]:\n",
    "                    max_diff = max(np.abs(self.L[a,j]-p_L[a,j]),max_diff)\n",
    "                llr_gains[a] = max_diff\n",
    "            return np.argmax(llr_gains)\n",
    "                \n",
    "    \n",
    "        # Information Gain\n",
    "        MI_gains = np.zeros(self.num_clusters)\n",
    "        for a in range(self.num_clusters):\n",
    "            p_L, p_sum = self.pseudo_row_update(a)\n",
    "            p_L = self.pseudo_col_update(a,p_L,p_sum)\n",
    "            MI_new = self.get_MI(p_L)\n",
    "            gain = self.calculate_residual(self.MI, MI_new, a)\n",
    "            MI_gains[a] = gain\n",
    "            \n",
    "        a = np.argmax(MI_gains)\n",
    "        return a\n",
    "        \n",
    "    \n",
    "        "
   ]
  },
  {
   "cell_type": "code",
   "execution_count": 3,
   "id": "4d85dc96",
   "metadata": {},
   "outputs": [],
   "source": [
    "def circular_shift_identity(z, k):\n",
    "    if k == -1:\n",
    "        return np.zeros((z, z), dtype=int)\n",
    "    else:\n",
    "        return np.roll(np.eye(z, dtype=int), -k, axis=1)\n",
    "\n",
    "def expand_base_matrix(B, z):\n",
    "    m, n = B.shape\n",
    "    H = np.zeros((m * z, n * z), dtype=int)  # Full parity check matrix initialized to zeros\n",
    "\n",
    "    for i in range(m):\n",
    "        for j in range(n):\n",
    "            # Expand each base matrix element into a z x z block\n",
    "            block = circular_shift_identity(z, B[i, j])\n",
    "            H[i * z:(i + 1) * z, j * z:(j + 1) * z] = block\n",
    "\n",
    "    return H\n",
    "# generates list of codewords corresponding to the parity check matrix H\n",
    "def get_codewords(H):\n",
    "    GF = galois.GF(2)\n",
    "    A = GF(H)\n",
    "    N = A.null_space()\n",
    "    vec = [np.array(v) for v in itertools.product([0, 1], repeat=N.shape[0])]\n",
    "    C = np.array(GF(vec) @ N)\n",
    "    return C"
   ]
  },
  {
   "cell_type": "code",
   "execution_count": 4,
   "id": "c0a93835",
   "metadata": {
    "scrolled": true
   },
   "outputs": [],
   "source": [
    "# B = np.loadtxt('./base_matrices/NR_1_6_13.txt', dtype=int)\n",
    "# print(\"Shape of B : \",B.shape)\n",
    "\n",
    "# H = expand_base_matrix(B=B,z=13)\n",
    "# print(\"Shape of H : \",H.shape)\n",
    "H = np.array( [[0,0,1,1,0,0,1,0,0,0,0,0,0,0,0]\n",
    ",[1,0,0,0,1,0,0,1,0,0,0,0,0,0,0]\n",
    ",[0,1,0,0,0,1,0,0,1,0,0,0,0,0,0]\n",
    ",[1,0,0,0,0,1,1,0,0,0,0,0,0,0,0]\n",
    ",[0,1,0,1,0,0,0,1,0,0,0,0,0,0,0]\n",
    ",[0,0,1,0,1,0,0,0,1,0,0,0,0,0,0]\n",
    ",[1,0,0,1,0,0,0,0,1,0,0,0,0,0,0]\n",
    ",[0,1,0,0,1,0,1,0,0,0,0,0,0,0,0]\n",
    ",[0,0,1,0,0,1,0,1,0,0,0,0,0,0,0]\n",
    ",[1,0,0,1,0,0,1,0,0,1,0,0,1,0,0]\n",
    ",[0,1,0,0,1,0,0,1,0,0,1,0,0,1,0]\n",
    ",[0,0,1,0,0,1,0,0,1,0,0,1,0,0,1]],dtype=int)"
   ]
  },
  {
   "cell_type": "code",
   "execution_count": 5,
   "id": "cf4bb6a8",
   "metadata": {
    "scrolled": false
   },
   "outputs": [
    {
     "name": "stdout",
     "output_type": "stream",
     "text": [
      "H : \n",
      " [[0 0 1 1 0 0 1 0 0 0 0 0 0 0 0]\n",
      " [1 0 0 0 1 0 0 1 0 0 0 0 0 0 0]\n",
      " [0 1 0 0 0 1 0 0 1 0 0 0 0 0 0]\n",
      " [1 0 0 0 0 1 1 0 0 0 0 0 0 0 0]\n",
      " [0 1 0 1 0 0 0 1 0 0 0 0 0 0 0]\n",
      " [0 0 1 0 1 0 0 0 1 0 0 0 0 0 0]\n",
      " [1 0 0 1 0 0 0 0 1 0 0 0 0 0 0]\n",
      " [0 1 0 0 1 0 1 0 0 0 0 0 0 0 0]\n",
      " [0 0 1 0 0 1 0 1 0 0 0 0 0 0 0]\n",
      " [1 0 0 1 0 0 1 0 0 1 0 0 1 0 0]\n",
      " [0 1 0 0 1 0 0 1 0 0 1 0 0 1 0]\n",
      " [0 0 1 0 0 1 0 0 1 0 0 1 0 0 1]]\n",
      "\n",
      "Codewords :\n",
      "[[0 0 0 0 0 0 0 0 0 0 0 0 0 0 0]\n",
      " [0 0 0 0 0 0 0 0 0 0 0 1 0 0 1]\n",
      " [0 0 0 0 0 0 0 0 0 0 1 0 0 1 0]\n",
      " [0 0 0 0 0 0 0 0 0 0 1 1 0 1 1]\n",
      " [0 0 0 0 0 0 0 0 0 1 0 0 1 0 0]\n",
      " [0 0 0 0 0 0 0 0 0 1 0 1 1 0 1]\n",
      " [0 0 0 0 0 0 0 0 0 1 1 0 1 1 0]\n",
      " [0 0 0 0 0 0 0 0 0 1 1 1 1 1 1]\n",
      " [0 0 0 1 1 1 1 1 1 0 0 0 0 0 0]\n",
      " [0 0 0 1 1 1 1 1 1 0 0 1 0 0 1]\n",
      " [0 0 0 1 1 1 1 1 1 0 1 0 0 1 0]\n",
      " [0 0 0 1 1 1 1 1 1 0 1 1 0 1 1]\n",
      " [0 0 0 1 1 1 1 1 1 1 0 0 1 0 0]\n",
      " [0 0 0 1 1 1 1 1 1 1 0 1 1 0 1]\n",
      " [0 0 0 1 1 1 1 1 1 1 1 0 1 1 0]\n",
      " [0 0 0 1 1 1 1 1 1 1 1 1 1 1 1]\n",
      " [1 1 1 0 0 0 1 1 1 0 0 0 0 0 0]\n",
      " [1 1 1 0 0 0 1 1 1 0 0 1 0 0 1]\n",
      " [1 1 1 0 0 0 1 1 1 0 1 0 0 1 0]\n",
      " [1 1 1 0 0 0 1 1 1 0 1 1 0 1 1]\n",
      " [1 1 1 0 0 0 1 1 1 1 0 0 1 0 0]\n",
      " [1 1 1 0 0 0 1 1 1 1 0 1 1 0 1]\n",
      " [1 1 1 0 0 0 1 1 1 1 1 0 1 1 0]\n",
      " [1 1 1 0 0 0 1 1 1 1 1 1 1 1 1]\n",
      " [1 1 1 1 1 1 0 0 0 0 0 0 0 0 0]\n",
      " [1 1 1 1 1 1 0 0 0 0 0 1 0 0 1]\n",
      " [1 1 1 1 1 1 0 0 0 0 1 0 0 1 0]\n",
      " [1 1 1 1 1 1 0 0 0 0 1 1 0 1 1]\n",
      " [1 1 1 1 1 1 0 0 0 1 0 0 1 0 0]\n",
      " [1 1 1 1 1 1 0 0 0 1 0 1 1 0 1]\n",
      " [1 1 1 1 1 1 0 0 0 1 1 0 1 1 0]\n",
      " [1 1 1 1 1 1 0 0 0 1 1 1 1 1 1]]\n",
      "dmin =  2\n"
     ]
    }
   ],
   "source": [
    "n = H.shape[1]\n",
    "C = get_codewords(H)\n",
    "print(\"H : \\n\",H)\n",
    "\n",
    "\n",
    "print(\"\\nCodewords :\")\n",
    "C = np.array(C)\n",
    "print(C)\n",
    "\n",
    "dmin = np.min(np.sum(C[1:],axis=1))\n",
    "print(\"dmin = \",dmin)\n"
   ]
  },
  {
   "cell_type": "markdown",
   "id": "2b717d25",
   "metadata": {},
   "source": [
    "# BER vs SNR plot"
   ]
  },
  {
   "cell_type": "code",
   "execution_count": 36,
   "id": "9bce15fd",
   "metadata": {},
   "outputs": [],
   "source": [
    "def getBER_round_robin(snr,H,C,num_iter,N):\n",
    "    # this is for bsc, similarly do for others too\n",
    "    avg = 0\n",
    "    tg = Decoder(H,\"bsc\",0,num_iter,3)\n",
    "    \n",
    "    for i in range(N):\n",
    "        c = C[np.random.choice(len(C))]\n",
    "        sigma = 1/math.sqrt(snr)\n",
    "        y = np.power(-1,c) + np.random.normal(loc=0, scale=sigma, size=c.shape)\n",
    "        c_hat = tg.decode(y,scheduling=\"round-robin\")\n",
    "        c_hat = [1 if val else 0 for val in c_hat]\n",
    "        c_hat = np.array(c_hat)%2\n",
    "        e = np.sum((c_hat+c)%2)/len(c)\n",
    "        avg = avg + e\n",
    "    \n",
    "    return avg/N\n",
    "    "
   ]
  },
  {
   "cell_type": "code",
   "execution_count": 37,
   "id": "1ab4ab88",
   "metadata": {},
   "outputs": [],
   "source": [
    "def getBER_flooding(snr,H,C,num_iter,N):\n",
    "    # this is for bsc, similarly do for others too\n",
    "    avg = 0\n",
    "    tg = Decoder(H,\"bsc\",0,num_iter,H.shape[0])\n",
    "    \n",
    "    for i in range(N):\n",
    "        c = C[np.random.choice(len(C))]\n",
    "        sigma = 1/math.sqrt(snr)\n",
    "        y = np.power(- 1,c) + np.random.normal(loc=0, scale=sigma, size=c.shape)\n",
    "        c_hat = tg.decode(y,scheduling=\"round-robin\")\n",
    "        c_hat = [1 if val else 0 for val in c_hat]\n",
    "        c_hat = np.array(c_hat)%2\n",
    "        e = np.sum((c_hat+c)%2)/len(c)\n",
    "        avg = avg + e\n",
    "    \n",
    "    return avg/N\n",
    "    "
   ]
  },
  {
   "cell_type": "code",
   "execution_count": 6,
   "id": "9a7904c5",
   "metadata": {},
   "outputs": [],
   "source": [
    "def getBER_MI(snr,H,C,num_iter,N):\n",
    "    # this is for bsc, similarly do for others too\n",
    "    avg = 0\n",
    "    tg = Decoder(H,\"bsc\",0,num_iter,3)\n",
    "    \n",
    "    for i in range(N):\n",
    "        c = C[np.random.choice(len(C))]\n",
    "        sigma = 1/math.sqrt(snr)\n",
    "        y = np.power(- 1,c) + np.random.normal(loc=0, scale=sigma, size=c.shape)\n",
    "        c_hat = tg.decode(y,scheduling=\"mi\")\n",
    "        c_hat = [1 if val else 0 for val in c_hat]\n",
    "        c_hat = np.array(c_hat)%2\n",
    "        e = np.sum((c_hat+c)%2)/len(c)\n",
    "        avg = avg + e\n",
    "    \n",
    "    return avg/N\n"
   ]
  },
  {
   "cell_type": "code",
   "execution_count": 39,
   "id": "104fafc8",
   "metadata": {},
   "outputs": [],
   "source": [
    "def getBER_llr_residual(snr,H,C,num_iter,N):\n",
    "    # this is for bsc, similarly do for others too\n",
    "    avg = 0\n",
    "    tg = Decoder(H,\"bsc\",0,num_iter,1)\n",
    "    \n",
    "    for i in range(N):\n",
    "        c = C[np.random.choice(len(C))]\n",
    "        sigma = 1/math.sqrt(snr)\n",
    "        y = np.power(- 1,c) + np.random.normal(loc=0, scale=sigma, size=c.shape)\n",
    "        c_hat = tg.decode(y,scheduling=\"residual-llr\")\n",
    "        c_hat = [1 if val else 0 for val in c_hat]\n",
    "        c_hat = np.array(c_hat)%2\n",
    "        e = np.sum((c_hat+c)%2)/len(c)\n",
    "        avg = avg + e\n",
    "    \n",
    "    return avg/N\n"
   ]
  },
  {
   "cell_type": "markdown",
   "id": "ca18cc52",
   "metadata": {},
   "source": [
    "### Getting BER plot for LLR-residual based scheduler"
   ]
  },
  {
   "cell_type": "code",
   "execution_count": 40,
   "id": "4a5e3e56",
   "metadata": {},
   "outputs": [
    {
     "name": "stdout",
     "output_type": "stream",
     "text": [
      "BERs for llr-residual\n",
      "-----------------\n",
      "\n",
      "BER = 0.40174666666669373\t\t\t SNR(db) = 0.1\n",
      "BER = 0.3980000000000276\t\t\t SNR(db) = 0.2\n",
      "BER = 0.4012133333333625\t\t\t SNR(db) = 0.35\n",
      "BER = 0.4013600000000266\t\t\t SNR(db) = 0.5\n",
      "BER = 0.4030200000000263\t\t\t SNR(db) = 0.9\n",
      "BER = 0.40396666666669223\t\t\t SNR(db) = 1.5\n",
      "BER = 0.4059066666666893\t\t\t SNR(db) = 2.2\n",
      "BER = 0.4072800000000209\t\t\t SNR(db) = 3\n",
      "BER = 0.40675333333335356\t\t\t SNR(db) = 3.7\n",
      "BER = 0.40596000000001803\t\t\t SNR(db) = 4.3\n",
      "BER = 0.4113133333333488\t\t\t SNR(db) = 4.9\n"
     ]
    }
   ],
   "source": [
    "print(\"BERs for llr-residual\\n-----------------\\n\")\n",
    "snrdb_vals = [0.1, 0.2, 0.35, 0.5, 0.9, 1.5, 2.2, 3, 3.7, 4.3, 4.9]\n",
    "bers_llr_residual = []\n",
    "N = 10000\n",
    "for snrdb in snrdb_vals:\n",
    "    snr = math.pow(10,snrdb/20)\n",
    "    ber = getBER_llr_residual(snr,H,C,100,N)\n",
    "    bers_llr_residual.append(ber)\n",
    "    print(f\"BER = {ber}\\t\\t\\t SNR(db) = {snrdb}\")\n",
    "#     snrdb_vals.append(snrdb)"
   ]
  },
  {
   "cell_type": "code",
   "execution_count": 41,
   "id": "c8e5cf48",
   "metadata": {},
   "outputs": [
    {
     "name": "stdout",
     "output_type": "stream",
     "text": [
      "[0.40174666666669373, 0.3980000000000276, 0.4012133333333625, 0.4013600000000266, 0.4030200000000263, 0.40396666666669223, 0.4059066666666893, 0.4072800000000209, 0.40675333333335356, 0.40596000000001803, 0.4113133333333488]\n"
     ]
    }
   ],
   "source": [
    "print(bers_llr_residual)"
   ]
  },
  {
   "cell_type": "markdown",
   "id": "0bbd5b15",
   "metadata": {},
   "source": [
    "### Getting BER plot for Mutual-Information based scheduler"
   ]
  },
  {
   "cell_type": "code",
   "execution_count": 7,
   "id": "285aae6f",
   "metadata": {},
   "outputs": [
    {
     "name": "stdout",
     "output_type": "stream",
     "text": [
      "BERs for MI\n",
      "-----------------\n",
      "\n",
      "BER = 0.046659999999998925\t\t\t SNR(db) = 0.1\n",
      "BER = 0.04542666666666565\t\t\t SNR(db) = 0.2\n",
      "BER = 0.04455999999999895\t\t\t SNR(db) = 0.35\n",
      "BER = 0.04315333333333243\t\t\t SNR(db) = 0.5\n",
      "BER = 0.039473333333332555\t\t\t SNR(db) = 0.9\n",
      "BER = 0.03519999999999938\t\t\t SNR(db) = 1.5\n",
      "BER = 0.030546666666666215\t\t\t SNR(db) = 2.2\n",
      "BER = 0.024053333333333163\t\t\t SNR(db) = 3\n",
      "BER = 0.019413333333333324\t\t\t SNR(db) = 3.7\n",
      "BER = 0.016466666666666775\t\t\t SNR(db) = 4.3\n",
      "BER = 0.015040000000000154\t\t\t SNR(db) = 4.9\n"
     ]
    }
   ],
   "source": [
    "print(\"BERs for MI\\n-----------------\\n\")\n",
    "snrdb_vals = [0.1, 0.2, 0.35, 0.5, 0.9, 1.5, 2.2, 3, 3.7, 4.3, 4.9]\n",
    "bers_MI = []\n",
    "N = 10000\n",
    "for snrdb in snrdb_vals:\n",
    "    snr = math.pow(10,snrdb/20)\n",
    "    ber = getBER_MI(snr,H,C,100,N)\n",
    "    bers_MI.append(ber)\n",
    "    print(f\"BER = {ber}\\t\\t\\t SNR(db) = {snrdb}\")\n",
    "#     snrdb_vals.append(snrdb)"
   ]
  },
  {
   "cell_type": "code",
   "execution_count": 8,
   "id": "b40e6697",
   "metadata": {},
   "outputs": [
    {
     "name": "stdout",
     "output_type": "stream",
     "text": [
      "[0.046659999999998925, 0.04542666666666565, 0.04455999999999895, 0.04315333333333243, 0.039473333333332555, 0.03519999999999938, 0.030546666666666215, 0.024053333333333163, 0.019413333333333324, 0.016466666666666775, 0.015040000000000154]\n"
     ]
    }
   ],
   "source": [
    "print(bers_MI)"
   ]
  },
  {
   "cell_type": "markdown",
   "id": "2bd49fa9",
   "metadata": {},
   "source": [
    "### Getting BER plot for flooding"
   ]
  },
  {
   "cell_type": "code",
   "execution_count": 10,
   "id": "ff0909c5",
   "metadata": {
    "scrolled": false
   },
   "outputs": [
    {
     "name": "stdout",
     "output_type": "stream",
     "text": [
      "BERs for flooding\n",
      "-----------------\n",
      "\n",
      "BER = 0.10186666666667456\t\t\t SNR(db) = 0.1\n",
      "BER = 0.10068666666667382\t\t\t SNR(db) = 0.2\n",
      "BER = 0.09892000000000717\t\t\t SNR(db) = 0.35\n",
      "BER = 0.09746666666667378\t\t\t SNR(db) = 0.5\n",
      "BER = 0.08983333333333929\t\t\t SNR(db) = 0.9\n",
      "BER = 0.078806666666671\t\t\t SNR(db) = 1.5\n",
      "BER = 0.07275333333333686\t\t\t SNR(db) = 2.2\n",
      "BER = 0.06168666666666754\t\t\t SNR(db) = 3\n",
      "BER = 0.052079999999998426\t\t\t SNR(db) = 3.7\n",
      "BER = 0.04648666666666496\t\t\t SNR(db) = 4.3\n",
      "BER = 0.04043333333333201\t\t\t SNR(db) = 4.9\n"
     ]
    }
   ],
   "source": [
    "print(\"BERs for flooding\\n-----------------\\n\")\n",
    "snrdb_vals = [0.1, 0.2, 0.35, 0.5, 0.9, 1.5, 2.2, 3, 3.7, 4.3, 4.9]\n",
    "bers_flooding = []\n",
    "N = 10000\n",
    "for snrdb in snrdb_vals:\n",
    "    snr = math.pow(10,snrdb/20)\n",
    "    ber = getBER_flooding(snr,H,C,100,N)\n",
    "    bers_flooding.append(ber)\n",
    "    print(f\"BER = {ber}\\t\\t\\t SNR(db) = {snrdb}\")\n",
    "#     snrdb_vals.append(snrdb)"
   ]
  },
  {
   "cell_type": "markdown",
   "id": "1a0a7fec",
   "metadata": {},
   "source": [
    "### Getting BER plot for round-robin"
   ]
  },
  {
   "cell_type": "code",
   "execution_count": 11,
   "id": "8163c759",
   "metadata": {
    "scrolled": true
   },
   "outputs": [
    {
     "name": "stdout",
     "output_type": "stream",
     "text": [
      "BERs for round-robin\n",
      "-----------------\n",
      "\n",
      "BER = 0.049566666666665586\t\t\t SNR(db) = 0.1\n",
      "BER = 0.04962666666666552\t\t\t SNR(db) = 0.2\n",
      "BER = 0.04781333333333225\t\t\t SNR(db) = 0.35\n",
      "BER = 0.046799999999998974\t\t\t SNR(db) = 0.5\n",
      "BER = 0.04079333333333247\t\t\t SNR(db) = 0.9\n",
      "BER = 0.03711999999999932\t\t\t SNR(db) = 1.5\n",
      "BER = 0.03193333333333291\t\t\t SNR(db) = 2.2\n",
      "BER = 0.024706666666666495\t\t\t SNR(db) = 3\n",
      "BER = 0.02105333333333328\t\t\t SNR(db) = 3.7\n",
      "BER = 0.017973333333333362\t\t\t SNR(db) = 4.3\n",
      "BER = 0.015120000000000135\t\t\t SNR(db) = 4.9\n"
     ]
    }
   ],
   "source": [
    "print(\"BERs for round-robin\\n-----------------\\n\")\n",
    "snrdb_vals = [0.1, 0.2, 0.35, 0.5, 0.9, 1.5, 2.2, 3, 3.7, 4.3, 4.9]\n",
    "bers_round_robin = []\n",
    "N = 10000\n",
    "for snrdb in snrdb_vals:\n",
    "    snr = math.pow(10,snrdb/20)\n",
    "    ber = getBER_round_robin(snr,H,C,100,N)\n",
    "    bers_round_robin.append(ber)\n",
    "    print(f\"BER = {ber}\\t\\t\\t SNR(db) = {snrdb}\")\n",
    "#     snrdb_vals.append(snrdb)"
   ]
  },
  {
   "cell_type": "code",
   "execution_count": 12,
   "id": "f23e98f5",
   "metadata": {},
   "outputs": [
    {
     "name": "stdout",
     "output_type": "stream",
     "text": [
      "For RR : \n",
      " [0.049566666666665586, 0.04962666666666552, 0.04781333333333225, 0.046799999999998974, 0.04079333333333247, 0.03711999999999932, 0.03193333333333291, 0.024706666666666495, 0.02105333333333328, 0.017973333333333362, 0.015120000000000135]\n",
      "For Flooding : \n",
      " [0.10186666666667456, 0.10068666666667382, 0.09892000000000717, 0.09746666666667378, 0.08983333333333929, 0.078806666666671, 0.07275333333333686, 0.06168666666666754, 0.052079999999998426, 0.04648666666666496, 0.04043333333333201]\n",
      "For MI : \n",
      " [0.04899999999999882, 0.04874666666666551, 0.04383999999999902, 0.04350666666666574, 0.0406533333333325, 0.035479999999999366, 0.031893333333332836, 0.023386666666666552, 0.020733333333333284, 0.01756666666666672, 0.01424000000000018]\n"
     ]
    }
   ],
   "source": [
    "print(\"For RR : \\n\",bers_round_robin)\n",
    "print(\"For Flooding : \\n\",bers_flooding)\n",
    "print(\"For MI : \\n\",bers_MI)\n",
    "print(\"For Residual LLR : \\n\",bers_llr_residual)\n",
    "\n"
   ]
  },
  {
   "cell_type": "markdown",
   "id": "f0ecb1b8",
   "metadata": {},
   "source": [
    "## Plotting the BERs vs SNR (dB)"
   ]
  },
  {
   "cell_type": "code",
   "execution_count": 13,
   "id": "cbc60026",
   "metadata": {
    "scrolled": false
   },
   "outputs": [
    {
     "data": {
      "image/png": "[encoded data removed]",
      "text/plain": [
       "<Figure size 640x480 with 1 Axes>"
      ]
     },
     "metadata": {},
     "output_type": "display_data"
    }
   ],
   "source": [
    "plt.plot(snrdb_vals, bers_round_robin, 'o')  \n",
    "plt.plot(snrdb_vals, bers_round_robin, '--',label=\"Round Robin\")\n",
    "plt.plot(snrdb_vals, bers_flooding, 'o')  \n",
    "plt.plot(snrdb_vals, bers_flooding, '--',label=\"Flooding\")\n",
    "plt.plot(snrdb_vals, bers_MI, 'o')  \n",
    "plt.plot(snrdb_vals, bers_MI, '--',label=\"MI_based\")\n",
    "\n",
    "\n",
    "plt.title(\"BER vs SNR Plot\")\n",
    "plt.ylabel(\"BER\")\n",
    "plt.xlabel(\"SNR (in dB)\")\n",
    "plt.legend()\n",
    "plt.yscale('log')\n",
    "plt.grid(True, which=\"both\", ls=\"--\")\n",
    "\n"
   ]
  },
  {
   "cell_type": "markdown",
   "id": "de8f5746",
   "metadata": {},
   "source": [
    "# BER vs SNR for a 30x50 matrix"
   ]
  },
  {
   "cell_type": "code",
   "execution_count": 42,
   "id": "140f4e0e",
   "metadata": {},
   "outputs": [],
   "source": [
    "def circular_shift_identity(z, k):\n",
    "    \"\"\"\n",
    "    Generate a z x z identity matrix with circularly shifted rows by k positions.\n",
    "    If k == -1, return a z x z zero matrix.\n",
    "    \"\"\"\n",
    "    if k == -1:\n",
    "        return np.zeros((z, z), dtype=int)\n",
    "    else:\n",
    "        return np.roll(np.eye(z, dtype=int), -k, axis=1)\n",
    "\n",
    "def expand_base_matrix(B, z):\n",
    "    \"\"\"\n",
    "    Expand the base matrix B into the full parity check matrix with expansion factor z.\n",
    "\n",
    "    B: Base matrix of size m x n\n",
    "    z: Expansion factor\n",
    "\n",
    "    Returns the expanded parity-check matrix of size (m*z) x (n*z).\n",
    "    \"\"\"\n",
    "    m, n = B.shape\n",
    "    H = np.zeros((m * z, n * z), dtype=int)  # Full parity check matrix initialized to zeros\n",
    "\n",
    "    for i in range(m):\n",
    "        for j in range(n):\n",
    "            # Expand each base matrix element into a z x z block\n",
    "            block = circular_shift_identity(z, B[i, j])\n",
    "            H[i * z:(i + 1) * z, j * z:(j + 1) * z] = block\n",
    "\n",
    "    return H\n",
    "\n"
   ]
  },
  {
   "cell_type": "code",
   "execution_count": 43,
   "id": "d9f432cd",
   "metadata": {},
   "outputs": [],
   "source": [
    "# generates list of codewords corresponding to the parity check matrix H\n",
    "def get_codewords(H):\n",
    "    GF = galois.GF(2)\n",
    "    A = GF(H)\n",
    "    N = A.null_space()\n",
    "    vec = [np.array(v) for v in itertools.product([0, 1], repeat=N.shape[0])]\n",
    "    C = np.array(GF(vec) @ N)\n",
    "    return C"
   ]
  },
  {
   "cell_type": "code",
   "execution_count": 44,
   "id": "424b5289",
   "metadata": {
    "scrolled": false
   },
   "outputs": [
    {
     "name": "stdout",
     "output_type": "stream",
     "text": [
      "B = \n",
      " [[ 0  2 -1  3 -1 -1  2  4  1  0]\n",
      " [ 3  1 -1 -1  0  0  1  2  3  0]\n",
      " [ 1  0  0 -1  1  4  2  1  0 -1]\n",
      " [-1  0  0  2  3 -1 -1 -1  0 -1]\n",
      " [ 1  0  2  0  1  0 -1 -1 -1 -1]\n",
      " [ 2  1  0  0  2 -1 -1 -1  1 -1]]\n",
      "H : \n",
      " [[1 0 0 ... 0 0 0]\n",
      " [0 1 0 ... 0 0 0]\n",
      " [0 0 1 ... 1 0 0]\n",
      " ...\n",
      " [1 0 0 ... 0 0 0]\n",
      " [0 1 0 ... 0 0 0]\n",
      " [0 0 1 ... 0 0 0]]\n",
      "Codewords : \n",
      " [[0 0 0 ... 0 0 0]\n",
      " [0 0 0 ... 0 0 0]\n",
      " [0 0 0 ... 0 0 0]\n",
      " ...\n",
      " [1 1 1 ... 1 1 1]\n",
      " [1 1 1 ... 1 1 1]\n",
      " [1 1 1 ... 1 1 1]]\n",
      "1048576  codewords found\n",
      "dmin =  9\n"
     ]
    }
   ],
   "source": [
    "B = np.array([[0,2,-1,3,-1,-1,2,4,1,0],\n",
    "            [3,1,-1,-1,0,0,1,2,3,0],\n",
    "            [1,0,0,-1,1,4,2,1,0,-1],\n",
    "            [-1,0,0,2,3,-1,-1,-1,0,-1],\n",
    "            [1,0,2,0,1,0,-1,-1,-1,-1],\n",
    "            [2,1,0,0,2,-1,-1,-1,1,-1]]\n",
    "            ,dtype=int)\n",
    "\n",
    "# B = np.array([[-1,0,1],\n",
    "#              [1,0,2]],dtype=int)\n",
    "print(\"B = \\n\",B)\n",
    "z = 5\n",
    "\n",
    "H = expand_base_matrix(B,z)\n",
    "np.savetxt('output.txt',H,fmt=\"%d\")\n",
    "print(\"H : \\n\",H)\n",
    "\n",
    "C = get_codewords(H)\n",
    "print(\"Codewords : \\n\",C)\n",
    "print(len(C),\" codewords found\")\n",
    "dmin = np.min(np.sum(C[1:],axis=1))\n",
    "print(\"dmin = \",dmin)\n",
    "\n"
   ]
  },
  {
   "cell_type": "code",
   "execution_count": 45,
   "id": "84489890",
   "metadata": {},
   "outputs": [],
   "source": [
    "def getBER_round_robin_1(snr,H,C,num_iter,N):\n",
    "    # this is for bsc, similarly do for others too\n",
    "    avg = 0\n",
    "    tg = Decoder(H,\"bsc\",0,num_iter,6)\n",
    "    \n",
    "    for i in range(N):\n",
    "        c = C[np.random.choice(len(C))]\n",
    "        sigma = 1/math.sqrt(snr)\n",
    "        y = np.power(-1,c) + np.random.normal(loc=0, scale=sigma, size=c.shape)\n",
    "        c_hat = tg.decode(y,scheduling=\"round-robin\")\n",
    "        c_hat = [1 if val else 0 for val in c_hat]\n",
    "        c_hat = np.array(c_hat)%2\n",
    "        e = np.sum((c_hat+c)%2)/len(c)\n",
    "        avg = avg + e\n",
    "    \n",
    "    return avg/N\n",
    "\n",
    "def getBER_flooding(snr,H,C,num_iter,N):\n",
    "    # this is for bsc, similarly do for others too\n",
    "    avg = 0\n",
    "    tg = Decoder(H,\"bsc\",0,num_iter,H.shape[0])\n",
    "    \n",
    "    for i in range(N):\n",
    "        c = C[np.random.choice(len(C))]\n",
    "        sigma = 1/math.sqrt(snr)\n",
    "        y = np.power(- 1,c) + np.random.normal(loc=0, scale=sigma, size=c.shape)\n",
    "        c_hat = tg.decode(y,scheduling=\"round-robin\")\n",
    "        c_hat = [1 if val else 0 for val in c_hat]\n",
    "        c_hat = np.array(c_hat)%2\n",
    "        e = np.sum((c_hat+c)%2)/len(c)\n",
    "        avg = avg + e\n",
    "    \n",
    "    return avg/N\n",
    "\n",
    "def getBER_MI_1(snr,H,C,num_iter,N):\n",
    "    # this is for bsc, similarly do for others too\n",
    "    avg = 0\n",
    "    tg = Decoder(H,\"bsc\",0,num_iter,6)\n",
    "    \n",
    "    for i in range(N):\n",
    "        c = C[np.random.choice(len(C))]\n",
    "        sigma = 1/math.sqrt(snr)\n",
    "        y = np.power(-1,c) + np.random.normal(loc=0, scale=sigma, size=c.shape)\n",
    "        c_hat = tg.decode(y,scheduling=\"mi\")\n",
    "        c_hat = [1 if val else 0 for val in c_hat]\n",
    "        c_hat = np.array(c_hat)%2\n",
    "        e = np.sum((c_hat+c)%2)/len(c)\n",
    "        avg = avg + e\n",
    "    \n",
    "    return avg/N\n",
    "\n",
    "def getBER_residual_llr_1(snr,H,C,num_iter,N):\n",
    "    # this is for bsc, similarly do for others too\n",
    "    avg = 0\n",
    "    tg = Decoder(H,\"bsc\",0,num_iter,1)\n",
    "    \n",
    "    for i in range(N):\n",
    "        c = C[np.random.choice(len(C))]\n",
    "        sigma = 1/math.sqrt(snr)\n",
    "        y = np.power(-1,c) + np.random.normal(loc=0, scale=sigma, size=c.shape)\n",
    "        c_hat = tg.decode(y,scheduling=\"residual-llr\")\n",
    "        c_hat = [1 if val else 0 for val in c_hat]\n",
    "        c_hat = np.array(c_hat)%2\n",
    "        e = np.sum((c_hat+c)%2)/len(c)\n",
    "        avg = avg + e\n",
    "    \n",
    "    return avg/N\n"
   ]
  },
  {
   "cell_type": "code",
   "execution_count": 46,
   "id": "34953cb3",
   "metadata": {},
   "outputs": [
    {
     "name": "stdout",
     "output_type": "stream",
     "text": [
      "BERs for residual-llr for 30x50 H \n",
      "-----------------\n",
      "\n",
      "BER = 0.3249100000000359\t\t\t SNR(db) = 0.1\n",
      "BER = 0.3247600000000361\t\t\t SNR(db) = 0.2\n",
      "BER = 0.32384400000003444\t\t\t SNR(db) = 0.35\n",
      "BER = 0.32545600000003544\t\t\t SNR(db) = 0.5\n",
      "BER = 0.3249440000000366\t\t\t SNR(db) = 0.9\n",
      "BER = 0.325944000000035\t\t\t SNR(db) = 1.5\n",
      "BER = 0.33004000000003547\t\t\t SNR(db) = 2.2\n",
      "BER = 0.334646000000036\t\t\t SNR(db) = 3\n",
      "BER = 0.33957400000003324\t\t\t SNR(db) = 3.7\n",
      "BER = 0.34902000000003597\t\t\t SNR(db) = 4.3\n",
      "BER = 0.3562520000000354\t\t\t SNR(db) = 4.9\n"
     ]
    }
   ],
   "source": [
    "print(\"BERs for residual-llr for 30x50 H \\n-----------------\\n\")\n",
    "snrdb_vals = [0.1, 0.2, 0.35, 0.5, 0.9, 1.5, 2.2, 3, 3.7, 4.3, 4.9]\n",
    "bers_residual_llr_1 = []\n",
    "N = 10000\n",
    "for snrdb in snrdb_vals:\n",
    "    snr = math.pow(10,snrdb/20)\n",
    "    ber = getBER_residual_llr_1(snr,H,C,100,N)\n",
    "    bers_residual_llr_1.append(ber)\n",
    "    print(f\"BER = {ber}\\t\\t\\t SNR(db) = {snrdb}\")\n",
    "#     snrdb_vals.append(snrdb)"
   ]
  },
  {
   "cell_type": "code",
   "execution_count": 47,
   "id": "beac2c20",
   "metadata": {},
   "outputs": [
    {
     "name": "stdout",
     "output_type": "stream",
     "text": [
      "[0.3249100000000359, 0.3247600000000361, 0.32384400000003444, 0.32545600000003544, 0.3249440000000366, 0.325944000000035, 0.33004000000003547, 0.334646000000036, 0.33957400000003324, 0.34902000000003597, 0.3562520000000354]\n"
     ]
    }
   ],
   "source": [
    "print(bers_residual_llr_1)"
   ]
  },
  {
   "cell_type": "code",
   "execution_count": 18,
   "id": "f6867837",
   "metadata": {},
   "outputs": [
    {
     "name": "stdout",
     "output_type": "stream",
     "text": [
      "BERs for MI for 30x50 H \n",
      "-----------------\n",
      "\n",
      "BER = 0.11965600000000122\t\t\t SNR(db) = 0.1\n",
      "BER = 0.11606200000000054\t\t\t SNR(db) = 0.2\n",
      "BER = 0.11369800000000045\t\t\t SNR(db) = 0.35\n",
      "BER = 0.10641400000000008\t\t\t SNR(db) = 0.5\n",
      "BER = 0.09496800000000011\t\t\t SNR(db) = 0.9\n",
      "BER = 0.07945200000000024\t\t\t SNR(db) = 1.5\n",
      "BER = 0.057892000000000395\t\t\t SNR(db) = 2.2\n",
      "BER = 0.041286000000000225\t\t\t SNR(db) = 3\n",
      "BER = 0.02801800000000001\t\t\t SNR(db) = 3.7\n",
      "BER = 0.01932199999999995\t\t\t SNR(db) = 4.3\n",
      "BER = 0.012512000000000018\t\t\t SNR(db) = 4.9\n"
     ]
    }
   ],
   "source": [
    "print(\"BERs for MI for 30x50 H \\n-----------------\\n\")\n",
    "snrdb_vals = [0.1, 0.2, 0.35, 0.5, 0.9, 1.5, 2.2, 3, 3.7, 4.3, 4.9]\n",
    "bers_MI_1 = []\n",
    "N = 10000\n",
    "for snrdb in snrdb_vals:\n",
    "    snr = math.pow(10,snrdb/20)\n",
    "    ber = getBER_MI_1(snr,H,C,100,N)\n",
    "    bers_MI_1.append(ber)\n",
    "    print(f\"BER = {ber}\\t\\t\\t SNR(db) = {snrdb}\")\n",
    "#     snrdb_vals.append(snrdb)"
   ]
  },
  {
   "cell_type": "code",
   "execution_count": 19,
   "id": "6a742b12",
   "metadata": {},
   "outputs": [
    {
     "name": "stdout",
     "output_type": "stream",
     "text": [
      "BERs for round-robin for 30x50 H \n",
      "-----------------\n",
      "\n",
      "BER = 0.137686000000002\t\t\t SNR(db) = 0.1\n",
      "BER = 0.1338280000000011\t\t\t SNR(db) = 0.2\n",
      "BER = 0.12724400000000097\t\t\t SNR(db) = 0.35\n",
      "BER = 0.12345800000000129\t\t\t SNR(db) = 0.5\n",
      "BER = 0.11206400000000054\t\t\t SNR(db) = 0.9\n",
      "BER = 0.09463800000000012\t\t\t SNR(db) = 1.5\n",
      "BER = 0.07464000000000019\t\t\t SNR(db) = 2.2\n",
      "BER = 0.05519800000000041\t\t\t SNR(db) = 3\n",
      "BER = 0.04055400000000043\t\t\t SNR(db) = 3.7\n",
      "BER = 0.029182000000000027\t\t\t SNR(db) = 4.3\n",
      "BER = 0.020915999999999945\t\t\t SNR(db) = 4.9\n"
     ]
    }
   ],
   "source": [
    "print(\"BERs for round-robin for 30x50 H \\n-----------------\\n\")\n",
    "snrdb_vals = [0.1, 0.2, 0.35, 0.5, 0.9, 1.5, 2.2, 3, 3.7, 4.3, 4.9]\n",
    "bers_round_robin_1 = []\n",
    "N = 10000\n",
    "for snrdb in snrdb_vals:\n",
    "    snr = math.pow(10,snrdb/20)\n",
    "    ber = getBER_round_robin_1(snr,H,C,100,N)\n",
    "    bers_round_robin_1.append(ber)\n",
    "    print(f\"BER = {ber}\\t\\t\\t SNR(db) = {snrdb}\")\n",
    "#     snrdb_vals.append(snrdb)"
   ]
  },
  {
   "cell_type": "code",
   "execution_count": 20,
   "id": "7bef335e",
   "metadata": {},
   "outputs": [
    {
     "name": "stdout",
     "output_type": "stream",
     "text": [
      "BERs for flooding\n",
      "-----------------\n",
      "\n",
      "BER = 0.15722799999999953\t\t\t SNR(db) = 0.1\n",
      "BER = 0.1547639999999983\t\t\t SNR(db) = 0.2\n",
      "BER = 0.1518259999999976\t\t\t SNR(db) = 0.35\n",
      "BER = 0.14838599999999877\t\t\t SNR(db) = 0.5\n",
      "BER = 0.14151199999999697\t\t\t SNR(db) = 0.9\n",
      "BER = 0.1285379999999968\t\t\t SNR(db) = 1.5\n",
      "BER = 0.11684999999999603\t\t\t SNR(db) = 2.2\n",
      "BER = 0.10057799999999717\t\t\t SNR(db) = 3\n",
      "BER = 0.08716799999999758\t\t\t SNR(db) = 3.7\n",
      "BER = 0.07752199999999808\t\t\t SNR(db) = 4.3\n",
      "BER = 0.06664199999999866\t\t\t SNR(db) = 4.9\n"
     ]
    }
   ],
   "source": [
    "print(\"BERs for flooding\\n-----------------\\n\")\n",
    "snrdb_vals = [0.1, 0.2, 0.35, 0.5, 0.9, 1.5, 2.2, 3, 3.7, 4.3, 4.9]\n",
    "bers_flooding_1 = []\n",
    "N = 10000\n",
    "for snrdb in snrdb_vals:\n",
    "    snr = math.pow(10,snrdb/20)\n",
    "    ber = getBER_flooding(snr,H,C,100,N)\n",
    "    bers_flooding_1.append(ber)\n",
    "    print(f\"BER = {ber}\\t\\t\\t SNR(db) = {snrdb}\")\n",
    "#     snrdb_vals.append(snrdb)"
   ]
  },
  {
   "cell_type": "code",
   "execution_count": 21,
   "id": "4ee93bb9",
   "metadata": {},
   "outputs": [
    {
     "name": "stdout",
     "output_type": "stream",
     "text": [
      "BERs for Round Robing : \n",
      " [0.137686000000002, 0.1338280000000011, 0.12724400000000097, 0.12345800000000129, 0.11206400000000054, 0.09463800000000012, 0.07464000000000019, 0.05519800000000041, 0.04055400000000043, 0.029182000000000027, 0.020915999999999945]\n",
      "BERs for flooding :\n",
      " [0.15722799999999953, 0.1547639999999983, 0.1518259999999976, 0.14838599999999877, 0.14151199999999697, 0.1285379999999968, 0.11684999999999603, 0.10057799999999717, 0.08716799999999758, 0.07752199999999808, 0.06664199999999866]\n",
      "BERs for MI :\n",
      " [0.11965600000000122, 0.11606200000000054, 0.11369800000000045, 0.10641400000000008, 0.09496800000000011, 0.07945200000000024, 0.057892000000000395, 0.041286000000000225, 0.02801800000000001, 0.01932199999999995, 0.012512000000000018]\n"
     ]
    }
   ],
   "source": [
    "print(\"BERs for Round Robing : \\n\",bers_round_robin_1)\n",
    "print(\"BERs for flooding :\\n\",bers_flooding_1)\n",
    "print(\"BERs for MI :\\n\",bers_MI_1)\n"
   ]
  },
  {
   "cell_type": "code",
   "execution_count": 22,
   "id": "219866ec",
   "metadata": {},
   "outputs": [
    {
     "data": {
      "image/png": "[encoded data removed]",
      "text/plain": [
       "<Figure size 640x480 with 1 Axes>"
      ]
     },
     "metadata": {},
     "output_type": "display_data"
    }
   ],
   "source": [
    "plt.plot(snrdb_vals, bers_round_robin_1, 'o')  \n",
    "plt.plot(snrdb_vals, bers_round_robin_1, '--',label=\"Round Robin\")\n",
    "plt.plot(snrdb_vals, bers_flooding_1, 'o')  \n",
    "plt.plot(snrdb_vals, bers_flooding_1, '--',label=\"Flooding\")\n",
    "plt.plot(snrdb_vals, bers_MI_1, 'o')  \n",
    "plt.plot(snrdb_vals, bers_MI_1, '--',label=\"MI\")\n",
    "\n",
    "\n",
    "\n",
    "plt.title(\"BER vs SNR Plot\")\n",
    "plt.ylabel(\"BER\")\n",
    "plt.xlabel(\"SNR (in dB)\")\n",
    "plt.legend()\n",
    "plt.yscale('log')\n",
    "plt.grid(True, which=\"both\", ls=\"--\")\n",
    "plt.show()\n"
   ]
  },
  {
   "cell_type": "markdown",
   "id": "4a9d4165",
   "metadata": {},
   "source": [
    "### Finding number of iterations taken to converge"
   ]
  },
  {
   "cell_type": "code",
   "execution_count": 23,
   "id": "0037af30",
   "metadata": {},
   "outputs": [],
   "source": [
    "H = np.array( [[0,0,1,1,0,0,1,0,0,0,0,0,0,0,0]\n",
    ",[1,0,0,0,1,0,0,1,0,0,0,0,0,0,0]\n",
    ",[0,1,0,0,0,1,0,0,1,0,0,0,0,0,0]\n",
    ",[1,0,0,0,0,1,1,0,0,0,0,0,0,0,0]\n",
    ",[0,1,0,1,0,0,0,1,0,0,0,0,0,0,0]\n",
    ",[0,0,1,0,1,0,0,0,1,0,0,0,0,0,0]\n",
    ",[1,0,0,1,0,0,0,0,1,0,0,0,0,0,0]\n",
    ",[0,1,0,0,1,0,1,0,0,0,0,0,0,0,0]\n",
    ",[0,0,1,0,0,1,0,1,0,0,0,0,0,0,0]\n",
    ",[1,0,0,1,0,0,1,0,0,1,0,0,1,0,0]\n",
    ",[0,1,0,0,1,0,0,1,0,0,1,0,0,1,0]\n",
    ",[0,0,1,0,0,1,0,0,1,0,0,1,0,0,1]],dtype=int)\n",
    "n = H.shape[1]\n",
    "binary_vectors = [np.array(v) for v in itertools.product([0, 1], repeat=n)]\n",
    "C = []\n",
    "for c in binary_vectors:\n",
    "    if np.sum(np.dot(H,c.T)%2)==0:\n",
    "        C.append(c)\n",
    "\n",
    "\n",
    "# print(\"H : \\n\",H)\n",
    "C = get_codewords(H)\n",
    "# print(\"Codewords : \\n\",C)\n",
    "# print(len(C),\" codewords found\")\n",
    "dmin = np.min(np.sum(C[1:],axis=1))\n",
    "# print(\"dmin = \",dmin)\n",
    "\n",
    "\n"
   ]
  },
  {
   "cell_type": "code",
   "execution_count": 24,
   "id": "b2a9a339",
   "metadata": {},
   "outputs": [],
   "source": [
    "def get_avg_iters(H,C,N,snrdb,q,max_iter,scheduling):\n",
    "    snr = math.pow(10,snrdb/20)\n",
    "    sigma = 1/math.sqrt(snr)\n",
    "    avg_i = 0\n",
    "\n",
    "    for i in range(N):\n",
    "        dec = Decoder(H,None,None,max_iter,q)\n",
    "        c = C[np.random.choice(len(C))]\n",
    "        y = np.power(- 1,c) + np.random.normal(loc=0, scale=sigma, size=c.shape)\n",
    "        c_hat = dec.decode(y,scheduling=scheduling)\n",
    "        c_hat = [1 if val else 0 for val in c_hat]\n",
    "        c_hat = np.array(c_hat)%2\n",
    "        e = np.sum((c_hat+c)%2)/len(c)\n",
    "        i = dec.iteration_number\n",
    "        avg_i = avg_i + i\n",
    "\n",
    "    avg_i = avg_i/N\n",
    "    return avg_i\n",
    "\n",
    "    "
   ]
  },
  {
   "cell_type": "code",
   "execution_count": 25,
   "id": "779710bc",
   "metadata": {},
   "outputs": [
    {
     "ename": "NameError",
     "evalue": "name 'Dec' is not defined",
     "output_type": "error",
     "traceback": [
      "\u001b[1;31m---------------------------------------------------------------------------\u001b[0m",
      "\u001b[1;31mNameError\u001b[0m                                 Traceback (most recent call last)",
      "Cell \u001b[1;32mIn[25], line 7\u001b[0m\n\u001b[0;32m      3\u001b[0m q \u001b[38;5;241m=\u001b[39m \u001b[38;5;241m3\u001b[39m \u001b[38;5;66;03m# cluster size\u001b[39;00m\n\u001b[0;32m      4\u001b[0m max_iter \u001b[38;5;241m=\u001b[39m \u001b[38;5;241m1000\u001b[39m \u001b[38;5;66;03m# max number of iterations for the decoder\u001b[39;00m\n\u001b[1;32m----> 7\u001b[0m avg_i_rr2 \u001b[38;5;241m=\u001b[39m get_avg_iters(H,C,N,snrdb,\u001b[38;5;241m2\u001b[39m,max_iter,\u001b[38;5;124m\"\u001b[39m\u001b[38;5;124mround-robin\u001b[39m\u001b[38;5;124m\"\u001b[39m)\n\u001b[0;32m      8\u001b[0m avg_i_rr3 \u001b[38;5;241m=\u001b[39m get_avg_iters(H,C,N,snrdb,\u001b[38;5;241m3\u001b[39m,max_iter,\u001b[38;5;124m\"\u001b[39m\u001b[38;5;124mround-robin\u001b[39m\u001b[38;5;124m\"\u001b[39m)\n\u001b[0;32m      9\u001b[0m avg_i_rr4 \u001b[38;5;241m=\u001b[39m get_avg_iters(H,C,N,snrdb,\u001b[38;5;241m4\u001b[39m,max_iter,\u001b[38;5;124m\"\u001b[39m\u001b[38;5;124mround-robin\u001b[39m\u001b[38;5;124m\"\u001b[39m)\n",
      "Cell \u001b[1;32mIn[24], line 7\u001b[0m, in \u001b[0;36mget_avg_iters\u001b[1;34m(H, C, N, snrdb, q, max_iter, scheduling)\u001b[0m\n\u001b[0;32m      4\u001b[0m avg_i \u001b[38;5;241m=\u001b[39m \u001b[38;5;241m0\u001b[39m\n\u001b[0;32m      6\u001b[0m \u001b[38;5;28;01mfor\u001b[39;00m i \u001b[38;5;129;01min\u001b[39;00m \u001b[38;5;28mrange\u001b[39m(N):\n\u001b[1;32m----> 7\u001b[0m     dec \u001b[38;5;241m=\u001b[39m Dec(H,\u001b[38;5;28;01mNone\u001b[39;00m,\u001b[38;5;28;01mNone\u001b[39;00m,max_iter,q)\n\u001b[0;32m      8\u001b[0m     c \u001b[38;5;241m=\u001b[39m C[np\u001b[38;5;241m.\u001b[39mrandom\u001b[38;5;241m.\u001b[39mchoice(\u001b[38;5;28mlen\u001b[39m(C))]\n\u001b[0;32m      9\u001b[0m     y \u001b[38;5;241m=\u001b[39m np\u001b[38;5;241m.\u001b[39mpower(\u001b[38;5;241m-\u001b[39m \u001b[38;5;241m1\u001b[39m,c) \u001b[38;5;241m+\u001b[39m np\u001b[38;5;241m.\u001b[39mrandom\u001b[38;5;241m.\u001b[39mnormal(loc\u001b[38;5;241m=\u001b[39m\u001b[38;5;241m0\u001b[39m, scale\u001b[38;5;241m=\u001b[39msigma, size\u001b[38;5;241m=\u001b[39mc\u001b[38;5;241m.\u001b[39mshape)\n",
      "\u001b[1;31mNameError\u001b[0m: name 'Dec' is not defined"
     ]
    }
   ],
   "source": [
    "N = 200 # number of simulations\n",
    "snrdb = 2 # snr in dB\n",
    "q = 3 # cluster size\n",
    "max_iter = 1000 # max number of iterations for the decoder\n",
    "\n",
    "\n",
    "avg_i_rr2 = get_avg_iters(H,C,N,snrdb,2,max_iter,\"round-robin\")\n",
    "avg_i_rr3 = get_avg_iters(H,C,N,snrdb,3,max_iter,\"round-robin\")\n",
    "avg_i_rr4 = get_avg_iters(H,C,N,snrdb,4,max_iter,\"round-robin\")\n",
    "avg_i_rr6 = get_avg_iters(H,C,N,snrdb,6,max_iter,\"round-robin\")\n",
    "avg_i_fl = get_avg_iters(H,C,N,snrdb,H.shape[0],max_iter,\"round-robin\")\n",
    "avg_i_mi2 = get_avg_iters(H,C,N,snrdb,2,max_iter,\"mi\")\n",
    "avg_i_mi3 = get_avg_iters(H,C,N,snrdb,3,max_iter,\"mi\")\n",
    "avg_i_mi4 = get_avg_iters(H,C,N,snrdb,4,max_iter,\"mi\")\n",
    "avg_i_mi6 = get_avg_iters(H,C,N,snrdb,6,max_iter,\"mi\")\n",
    "\n",
    "\n",
    "print(f\"Average Number of iterations\\n-------------------------------\")\n",
    "print(\"Decoder(size_cluster)\\t#iters\\n-------------------------------\")\n",
    "\n",
    "print(f\"Flooding\\t:\\t{avg_i_fl}\")\n",
    "\n",
    "print(f\"Round Robin(2)\\t:\\t{avg_i_rr2}\")\n",
    "print(f\"Round Robin(3)\\t:\\t{avg_i_rr3}\")\n",
    "print(f\"Round Robin(4)\\t:\\t{avg_i_rr4}\")\n",
    "print(f\"Round Robin(6)\\t:\\t{avg_i_rr6}\")\n",
    "\n",
    "print(f\"Mutual Info.(2)\\t:\\t{avg_i_mi2}\")\n",
    "print(f\"Mutual Info.(3)\\t:\\t{avg_i_mi3}\")\n",
    "print(f\"Mutual Info.(4)\\t:\\t{avg_i_mi4}\")\n",
    "print(f\"Mutual Info.(6)\\t:\\t{avg_i_mi6}\")\n",
    "\n",
    "\n"
   ]
  },
  {
   "cell_type": "code",
   "execution_count": null,
   "id": "c320f125",
   "metadata": {},
   "outputs": [],
   "source": []
  },
  {
   "cell_type": "code",
   "execution_count": null,
   "id": "a549b565",
   "metadata": {},
   "outputs": [],
   "source": []
  }
 ],
 "metadata": {
  "kernelspec": {
   "display_name": "Python 3 (ipykernel)",
   "language": "python",
   "name": "python3"
  },
  "language_info": {
   "codemirror_mode": {
    "name": "ipython",
    "version": 3
   },
   "file_extension": ".py",
   "mimetype": "text/x-python",
   "name": "python",
   "nbconvert_exporter": "python",
   "pygments_lexer": "ipython3",
   "version": "3.11.5"
  }
 },
 "nbformat": 4,
 "nbformat_minor": 5
}
