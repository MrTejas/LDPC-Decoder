{
 "cells": [
  {
   "cell_type": "code",
   "execution_count": 14,
   "id": "ebe00a89",
   "metadata": {},
   "outputs": [],
   "source": [
    "import numpy as np\n",
    "import math\n",
    "import numpy as np\n",
    "import matplotlib.pyplot as plt\n",
    "from scipy.linalg import qr\n",
    "import itertools\n",
    "from scipy.special import erfc\n",
    "\n",
    "from Dec import Dec"
   ]
  },
  {
   "cell_type": "code",
   "execution_count": 15,
   "id": "cf4bb6a8",
   "metadata": {
    "scrolled": false
   },
   "outputs": [
    {
     "name": "stdout",
     "output_type": "stream",
     "text": [
      "H : \n",
      " [[1 1 1 0 0 0 0 0 0]\n",
      " [0 0 0 1 1 1 0 0 0]\n",
      " [0 0 0 0 0 0 1 1 1]\n",
      " [1 0 0 1 0 0 1 0 0]\n",
      " [0 1 0 0 1 0 0 1 0]\n",
      " [0 0 1 0 0 1 0 0 1]]\n",
      "\n",
      "Codewords :\n",
      "[[0 0 0 0 0 0 0 0 0]\n",
      " [0 0 0 0 1 1 0 1 1]\n",
      " [0 0 0 1 0 1 1 0 1]\n",
      " [0 0 0 1 1 0 1 1 0]\n",
      " [0 1 1 0 0 0 0 1 1]\n",
      " [0 1 1 0 1 1 0 0 0]\n",
      " [0 1 1 1 0 1 1 1 0]\n",
      " [0 1 1 1 1 0 1 0 1]\n",
      " [1 0 1 0 0 0 1 0 1]\n",
      " [1 0 1 0 1 1 1 1 0]\n",
      " [1 0 1 1 0 1 0 0 0]\n",
      " [1 0 1 1 1 0 0 1 1]\n",
      " [1 1 0 0 0 0 1 1 0]\n",
      " [1 1 0 0 1 1 1 0 1]\n",
      " [1 1 0 1 0 1 0 1 1]\n",
      " [1 1 0 1 1 0 0 0 0]]\n",
      "dmin =  4\n"
     ]
    }
   ],
   "source": [
    "H = np.array([\n",
    "    [1,1,1,0,0,0,0,0,0],\n",
    "    [0,0,0,1,1,1,0,0,0],\n",
    "    [0,0,0,0,0,0,1,1,1],\n",
    "    [1,0,0,1,0,0,1,0,0],\n",
    "    [0,1,0,0,1,0,0,1,0],\n",
    "    [0,0,1,0,0,1,0,0,1]\n",
    "])\n",
    "\n",
    "# H = np.array([\n",
    "#     [1,1,1,0,1,0,0],\n",
    "#     [0,0,0,1,0,1,1],\n",
    "#     [1,1,0,1,0,0,1],\n",
    "#     [0,0,1,0,1,1,0]\n",
    "# ])\n",
    "\n",
    "print(\"H : \\n\",H)\n",
    "\n",
    "n = H.shape[1]\n",
    "binary_vectors = [np.array(v) for v in itertools.product([0, 1], repeat=n)]\n",
    "C = []\n",
    "for c in binary_vectors:\n",
    "    if np.sum(np.dot(H,c.T)%2)==0:\n",
    "        C.append(c)\n",
    "\n",
    "print(\"\\nCodewords :\")\n",
    "C = np.array(C)\n",
    "print(C)\n",
    "\n",
    "dmin = np.min(np.sum(C[1:],axis=1))\n",
    "print(\"dmin = \",dmin)\n"
   ]
  },
  {
   "cell_type": "code",
   "execution_count": 16,
   "id": "c5174a04",
   "metadata": {},
   "outputs": [
    {
     "name": "stdout",
     "output_type": "stream",
     "text": [
      "Tanner Graph Adjacency list\n",
      "CN :  [[0, 1, 2], [3, 4, 5], [6, 7, 8], [0, 3, 6], [1, 4, 7], [2, 5, 8]]\n",
      "VN :  [[0, 3], [0, 4], [0, 5], [1, 3], [1, 4], [1, 5], [2, 3], [2, 4], [2, 5]]\n"
     ]
    }
   ],
   "source": [
    "channel_model = \"bsc\"\n",
    "channel_parameters = [0.2]\n",
    "num_iter = 1000\n",
    "cluster_size = 2\n",
    "tg = Dec(H,channel_model,channel_parameters,num_iter,cluster_size)\n",
    "print(\"Tanner Graph Adjacency list\")\n",
    "tg.print_graph(\"list\")"
   ]
  },
  {
   "cell_type": "markdown",
   "id": "5d508041",
   "metadata": {},
   "source": [
    "### Actual codeword sent"
   ]
  },
  {
   "cell_type": "code",
   "execution_count": 17,
   "id": "83de6c68",
   "metadata": {},
   "outputs": [
    {
     "name": "stdout",
     "output_type": "stream",
     "text": [
      "Actual Codeword :  [1 1 0 0 0 0 1 1 0]\n",
      "H.cT =  [0 0 0 0 0 0]\n"
     ]
    }
   ],
   "source": [
    "c = C[np.random.choice(len(C))]\n",
    "print(\"Actual Codeword : \",c)\n",
    "print(\"H.cT = \",np.dot(c,H.T)%2)"
   ]
  },
  {
   "cell_type": "markdown",
   "id": "61e63191",
   "metadata": {},
   "source": [
    "### Recieved codeword"
   ]
  },
  {
   "cell_type": "code",
   "execution_count": 18,
   "id": "90e44928",
   "metadata": {},
   "outputs": [
    {
     "name": "stdout",
     "output_type": "stream",
     "text": [
      "Recieved Vector : \t [-0.69  1.48  3.07  2.44  0.49 -0.74 -2.85 -1.04  2.87]\n",
      "Demodulated, it is :  [1 0 0 0 0 1 1 1 0]\n",
      "Error Vector :  \t [0 1 0 0 0 1 0 0 0]\n"
     ]
    }
   ],
   "source": [
    "# p = channel_parameters[0]\n",
    "\n",
    "# error_array = np.random.binomial(1, p, size=len(c))\n",
    "# y = (c+error_array)%2\n",
    "# # y = np.array([1,1,0,1,0,0,0,1,0])\n",
    "# print(\"Recieved Vector : \\t\",np.round(y,2))\n",
    "# print(\"Error Vector :  \\t\",(y+c)%2)\n",
    "\n",
    "\n",
    "sigma = 1.5\n",
    "y = np.power(-1,c) + np.random.normal(loc=0, scale=sigma, size=c.shape)\n",
    "# y = np.array([1,1,0,1,0,0,0,1,0])\n",
    "# y = np.array([0.2,-0.3,1.2,-0.5,0.8,0.6,-1.1])\n",
    "print(\"Recieved Vector : \\t\",np.round(y,2))\n",
    "y_rec = np.array([1 if val<0 else 0 for val in y])\n",
    "print(\"Demodulated, it is : \",y_rec)\n",
    "print(\"Error Vector :  \\t\",(y_rec+c)%2)\n",
    "if np.sum((y_rec+c)%2)>dmin//2:\n",
    "    print(\"errors greater dmin/2!\")"
   ]
  },
  {
   "cell_type": "markdown",
   "id": "0e69ffb1",
   "metadata": {},
   "source": [
    "### Decoding the recieved codeword"
   ]
  },
  {
   "cell_type": "code",
   "execution_count": 19,
   "id": "666c0228",
   "metadata": {
    "scrolled": false
   },
   "outputs": [
    {
     "name": "stdout",
     "output_type": "stream",
     "text": [
      "Iteration :  0 \tCluster scheduled :  0\n",
      "Iteration :  1 \tCluster scheduled :  1\n",
      "Iteration :  2 \tCluster scheduled :  2\n",
      "Iteration :  3 \tCluster scheduled :  0\n"
     ]
    }
   ],
   "source": [
    "c_hat = tg.decode(y,verbose=\"on\")"
   ]
  },
  {
   "cell_type": "code",
   "execution_count": 20,
   "id": "3bb0ee75",
   "metadata": {
    "scrolled": true
   },
   "outputs": [
    {
     "name": "stdout",
     "output_type": "stream",
     "text": [
      "Recovered vector : \t [1 1 0 0 0 0 1 1 0]\n",
      "Dot product : \t\t [0 0 0 0 0 0]\n",
      "Distance between decoded and transmitted codeword :  [0 0 0 0 0 0 0 0 0]\n"
     ]
    }
   ],
   "source": [
    "c_hat = [1 if val else 0 for val in c_hat]\n",
    "c_hat = np.array(c_hat)%2\n",
    "print(\"Recovered vector : \\t\",c_hat)\n",
    "print(\"Dot product : \\t\\t\",np.dot(H,c_hat.T)%2)\n",
    "\n",
    "print(\"Distance between decoded and transmitted codeword : \",(c_hat+c)%2)"
   ]
  },
  {
   "cell_type": "markdown",
   "id": "2b717d25",
   "metadata": {},
   "source": [
    "# BER vs SNR plot"
   ]
  },
  {
   "cell_type": "code",
   "execution_count": 21,
   "id": "a2274af4",
   "metadata": {
    "scrolled": true
   },
   "outputs": [
    {
     "name": "stdout",
     "output_type": "stream",
     "text": [
      "H : \n",
      " [[1 1 1 0 0 0 0 0 0]\n",
      " [0 0 0 1 1 1 0 0 0]\n",
      " [0 0 0 0 0 0 1 1 1]\n",
      " [1 0 0 1 0 0 1 0 0]\n",
      " [0 1 0 0 1 0 0 1 0]\n",
      " [0 0 1 0 0 1 0 0 1]]\n",
      "dmin =  4\n"
     ]
    }
   ],
   "source": [
    "H = np.array([\n",
    "    [1,1,1,0,0,0,0,0,0],\n",
    "    [0,0,0,1,1,1,0,0,0],\n",
    "    [0,0,0,0,0,0,1,1,1],\n",
    "    [1,0,0,1,0,0,1,0,0],\n",
    "    [0,1,0,0,1,0,0,1,0],\n",
    "    [0,0,1,0,0,1,0,0,1]\n",
    "])\n",
    "print(\"H : \\n\",H)\n",
    "\n",
    "\n",
    "n = H.shape[1]\n",
    "binary_vectors = [np.array(v) for v in itertools.product([0, 1], repeat=n)]\n",
    "C = []\n",
    "for c in binary_vectors:\n",
    "    if np.sum(np.dot(H,c.T)%2)==0:\n",
    "        C.append(c)\n",
    "dmin = np.min(np.sum(C[1:],axis=1))\n",
    "print(\"dmin = \",dmin)\n"
   ]
  },
  {
   "cell_type": "code",
   "execution_count": 22,
   "id": "9bce15fd",
   "metadata": {},
   "outputs": [],
   "source": [
    "def getBER_round_robin(snr,H,C,num_iter,N):\n",
    "    # this is for bsc, similarly do for others too\n",
    "    avg = 0\n",
    "    tg = Dec(H,\"bsc\",0,num_iter,2)\n",
    "    \n",
    "    for i in range(N):\n",
    "        c = C[np.random.choice(len(C))]\n",
    "        sigma = 1/math.sqrt(snr)\n",
    "        y = np.power(-1,c) + np.random.normal(loc=0, scale=sigma, size=c.shape)\n",
    "        c_hat = tg.decode(y)\n",
    "        c_hat = [1 if val else 0 for val in c_hat]\n",
    "        c_hat = np.array(c_hat)%2\n",
    "        e = np.sum((c_hat+c)%2)/len(c)\n",
    "        avg = avg + e\n",
    "    \n",
    "    return avg/N\n",
    "    "
   ]
  },
  {
   "cell_type": "code",
   "execution_count": 23,
   "id": "0aae3616",
   "metadata": {},
   "outputs": [],
   "source": [
    "def getBER_flooding(snr,H,C,num_iter,N):\n",
    "    # this is for bsc, similarly do for others too\n",
    "    avg = 0\n",
    "    tg = Dec(H,\"bsc\",0,num_iter,H.shape[0])\n",
    "    \n",
    "    for i in range(N):\n",
    "        c = C[np.random.choice(len(C))]\n",
    "        sigma = 1/math.sqrt(snr)\n",
    "        y = np.power(- 1,c) + np.random.normal(loc=0, scale=sigma, size=c.shape)\n",
    "        c_hat = tg.decode(y)\n",
    "        c_hat = [1 if val else 0 for val in c_hat]\n",
    "        c_hat = np.array(c_hat)%2\n",
    "        e = np.sum((c_hat+c)%2)/len(c)\n",
    "        avg = avg + e\n",
    "    \n",
    "    return avg/N\n",
    "    "
   ]
  },
  {
   "cell_type": "markdown",
   "id": "e0321079",
   "metadata": {},
   "source": [
    "### Getting BER plot for flooding"
   ]
  },
  {
   "cell_type": "code",
   "execution_count": 24,
   "id": "ff0909c5",
   "metadata": {
    "scrolled": true
   },
   "outputs": [
    {
     "name": "stdout",
     "output_type": "stream",
     "text": [
      "BERs for flooding\n",
      "-----------------\n",
      "\n",
      "BER = 0.08671111111110728\t\t\t SNR(db) = 0.1\n",
      "BER = 0.0865444444444409\t\t\t SNR(db) = 0.2\n",
      "BER = 0.08447777777777438\t\t\t SNR(db) = 0.35\n",
      "BER = 0.08054444444444105\t\t\t SNR(db) = 0.5\n",
      "BER = 0.0754777777777748\t\t\t SNR(db) = 0.9\n",
      "BER = 0.06738888888888643\t\t\t SNR(db) = 1.5\n",
      "BER = 0.059322222222220264\t\t\t SNR(db) = 2.2\n",
      "BER = 0.04922222222222114\t\t\t SNR(db) = 3\n",
      "BER = 0.03825555555555499\t\t\t SNR(db) = 3.7\n",
      "BER = 0.03417777777777772\t\t\t SNR(db) = 4.3\n",
      "BER = 0.02725555555555591\t\t\t SNR(db) = 4.9\n"
     ]
    }
   ],
   "source": [
    "print(\"BERs for flooding\\n-----------------\\n\")\n",
    "snrdb_vals = [0.1, 0.2, 0.35, 0.5, 0.9, 1.5, 2.2, 3, 3.7, 4.3, 4.9]\n",
    "bers_flooding = []\n",
    "N = 10000\n",
    "for snrdb in snrdb_vals:\n",
    "    snr = math.pow(10,snrdb/20)\n",
    "    ber = getBER_flooding(snr,H,C,1000,N)\n",
    "    bers_flooding.append(ber)\n",
    "    print(f\"BER = {ber}\\t\\t\\t SNR(db) = {snrdb}\")\n",
    "#     snrdb_vals.append(snrdb)"
   ]
  },
  {
   "cell_type": "markdown",
   "id": "50beae20",
   "metadata": {},
   "source": [
    "### Getting BER plot for round-robin"
   ]
  },
  {
   "cell_type": "code",
   "execution_count": 25,
   "id": "a2bfb67b",
   "metadata": {
    "scrolled": true
   },
   "outputs": [
    {
     "name": "stdout",
     "output_type": "stream",
     "text": [
      "BERs for round-robin\n",
      "-----------------\n",
      "\n",
      "BER = 0.06892222222222347\t\t\t SNR(db) = 0.1\n",
      "BER = 0.06825555555555682\t\t\t SNR(db) = 0.2\n",
      "BER = 0.06618888888889005\t\t\t SNR(db) = 0.35\n",
      "BER = 0.06183333333333448\t\t\t SNR(db) = 0.5\n",
      "BER = 0.05355555555555653\t\t\t SNR(db) = 0.9\n",
      "BER = 0.047800000000000835\t\t\t SNR(db) = 1.5\n",
      "BER = 0.042033333333334005\t\t\t SNR(db) = 2.2\n",
      "BER = 0.03016666666666707\t\t\t SNR(db) = 3\n",
      "BER = 0.02446666666666694\t\t\t SNR(db) = 3.7\n",
      "BER = 0.019588888888889034\t\t\t SNR(db) = 4.3\n",
      "BER = 0.01581111111111115\t\t\t SNR(db) = 4.9\n"
     ]
    }
   ],
   "source": [
    "print(\"BERs for round-robin\\n-----------------\\n\")\n",
    "snrdb_vals = [0.1, 0.2, 0.35, 0.5, 0.9, 1.5, 2.2, 3, 3.7, 4.3, 4.9]\n",
    "bers_round_robin = []\n",
    "N = 10000\n",
    "for snrdb in snrdb_vals:\n",
    "    snr = math.pow(10,snrdb/20)\n",
    "    ber = getBER_round_robin(snr,H,C,1000,N)\n",
    "    bers_round_robin.append(ber)\n",
    "    print(f\"BER = {ber}\\t\\t\\t SNR(db) = {snrdb}\")\n",
    "#     snrdb_vals.append(snrdb)"
   ]
  },
  {
   "cell_type": "code",
   "execution_count": 28,
   "id": "f70e2f84",
   "metadata": {},
   "outputs": [
    {
     "name": "stdout",
     "output_type": "stream",
     "text": [
      "For RR : \n",
      " [0.06892222222222347, 0.06825555555555682, 0.06618888888889005, 0.06183333333333448, 0.05355555555555653, 0.047800000000000835, 0.042033333333334005, 0.03016666666666707, 0.02446666666666694, 0.019588888888889034, 0.01581111111111115]\n",
      "For Flooding : \n",
      " [0.08671111111110728, 0.0865444444444409, 0.08447777777777438, 0.08054444444444105, 0.0754777777777748, 0.06738888888888643, 0.059322222222220264, 0.04922222222222114, 0.03825555555555499, 0.03417777777777772, 0.02725555555555591]\n"
     ]
    }
   ],
   "source": [
    "print(\"For RR : \\n\",bers_round_robin)\n",
    "print(\"For Flooding : \\n\",bers_flooding)"
   ]
  },
  {
   "cell_type": "markdown",
   "id": "5e9cb601",
   "metadata": {},
   "source": [
    "## Plotting the BERs vs SNR (dB)"
   ]
  },
  {
   "cell_type": "code",
   "execution_count": 12,
   "id": "cbc60026",
   "metadata": {
    "scrolled": false
   },
   "outputs": [
    {
     "name": "stdout",
     "output_type": "stream",
     "text": [
      "[0.063877777777779, 0.05465555555555655, 0.050877777777778695, 0.04168888888888958, 0.036844444444445006, 0.030900000000000413, 0.02383333333333359, 0.02223333333333354, 0.01838888888888901, 0.014888888888888903]\n"
     ]
    },
    {
     "data": {
      "image/png": "[encoded data removed]",
      "text/plain": [
       "<Figure size 640x480 with 1 Axes>"
      ]
     },
     "metadata": {},
     "output_type": "display_data"
    }
   ],
   "source": [
    "plt.plot(snrdb_vals, bers_round_robin, 'o')  \n",
    "plt.plot(snrdb_vals, bers_round_robin, '--',label=\"Round Robin\")\n",
    "plt.plot(snrdb_vals, bers_flooding, 'o')  \n",
    "plt.plot(snrdb_vals, bers_flooding, '--',label=\"Flooding\")\n",
    "\n",
    "\n",
    "plt.title(\"BER vs SNR Plot\")\n",
    "plt.ylabel(\"BER\")\n",
    "plt.xlabel(\"SNR (in dB)\")\n",
    "plt.legend()\n",
    "plt.yscale('log')\n",
    "plt.grid(True, which=\"both\", ls=\"--\")\n",
    "\n"
   ]
  },
  {
   "cell_type": "code",
   "execution_count": null,
   "id": "d5b90913",
   "metadata": {},
   "outputs": [],
   "source": []
  }
 ],
 "metadata": {
  "kernelspec": {
   "display_name": "Python 3 (ipykernel)",
   "language": "python",
   "name": "python3"
  },
  "language_info": {
   "codemirror_mode": {
    "name": "ipython",
    "version": 3
   },
   "file_extension": ".py",
   "mimetype": "text/x-python",
   "name": "python",
   "nbconvert_exporter": "python",
   "pygments_lexer": "ipython3",
   "version": "3.11.5"
  }
 },
 "nbformat": 4,
 "nbformat_minor": 5
}
