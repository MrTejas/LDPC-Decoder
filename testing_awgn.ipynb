{
 "cells": [
  {
   "cell_type": "code",
   "execution_count": 1,
   "id": "7ee1fbde",
   "metadata": {},
   "outputs": [],
   "source": [
    "from Encoder import Encoder\n",
    "from Decoder import Decoder\n",
    "import numpy as np\n",
    "import time"
   ]
  },
  {
   "cell_type": "code",
   "execution_count": 2,
   "id": "d71cda20",
   "metadata": {},
   "outputs": [],
   "source": [
    "def bpsk_modulate(message):\n",
    "    \"\"\"\n",
    "    BPSK Modulate a binary message array.\n",
    "    Map 0 -> +1, and 1 -> -1.\n",
    "    \"\"\"\n",
    "    return np.where(message == 0, 1, -1)\n",
    "\n",
    "def add_gaussian_noise(signal, sigma):\n",
    "    \"\"\"\n",
    "    Add Gaussian noise to the BPSK modulated signal.\n",
    "    \n",
    "    signal: BPSK modulated signal\n",
    "    sigma: Standard deviation of the Gaussian noise\n",
    "    \n",
    "    Returns the received signal with noise added.\n",
    "    \"\"\"\n",
    "    noise = np.random.normal(0, sigma, len(signal))\n",
    "    return signal + noise\n",
    "\n",
    "def add_bsc_noise(signal, p):\n",
    "    \"\"\"\n",
    "    Adds Binary Symmetric Channel (BSC) noise to the binary 1D signal.\n",
    "    \n",
    "    Parameters:\n",
    "    - signal: numpy array of binary values (0 or 1)\n",
    "    - p: probability of flipping a bit (0 <= p <= 1)\n",
    "\n",
    "    Returns:\n",
    "    - noisy_signal: binary signal with noise added\n",
    "    \"\"\"\n",
    "    # Generate a random array of the same length as the signal\n",
    "    noise = np.random.rand(len(signal)) < p  # True (flip) with probability p\n",
    "    \n",
    "    # Flip bits where noise is True\n",
    "    noisy_signal = np.bitwise_xor(signal, noise.astype(int))\n",
    "    \n",
    "    return noisy_signal\n",
    "\n",
    "\n",
    "def bpsk_demodulate(received_signal):\n",
    "    \"\"\"\n",
    "    BPSK Demodulate the received signal back to binary (0s and 1s).\n",
    "    \n",
    "    received_signal: Received signal with noise\n",
    "    \n",
    "    Returns the demodulated binary array.\n",
    "    \"\"\"\n",
    "    return np.where(received_signal >= 0, 0, 1)\n",
    "\n"
   ]
  },
  {
   "cell_type": "markdown",
   "id": "9fe93175",
   "metadata": {},
   "source": [
    "### Encoding a message into codeword"
   ]
  },
  {
   "cell_type": "code",
   "execution_count": 8,
   "id": "7882dd4b",
   "metadata": {},
   "outputs": [
    {
     "name": "stdout",
     "output_type": "stream",
     "text": [
      "Parity Check Matrix : \n",
      " [[0 0 0 ... 0 0 0]\n",
      " [0 0 0 ... 0 0 0]\n",
      " [0 0 0 ... 0 0 0]\n",
      " ...\n",
      " [0 0 0 ... 1 0 0]\n",
      " [0 0 0 ... 0 1 0]\n",
      " [0 0 0 ... 0 0 1]]\n",
      "message :\n",
      " [0 1 0 0 0 1 1 0 1 1 1 0 0 0 1 1 1 1 0 0 1 0 1 0 1 0 0 1 1 0 1 0 0 0 1 0 0\n",
      " 0 0 0 0 0 1 0 1 0 1 0 0 0 1 0 1 1 1 0 0 0 0 0 1 1 1 1 1 0 1 0 0 0 1 0 0 0\n",
      " 0 0 0 0 1 0 1 1 0 1 1 0 1 0 1 1 1 1 1 0 0 1 1 1 0 1 0 1 1 1 0 0 0 0 0 1 0\n",
      " 1 1 1 0 0 0 0 1 1 1 1 0 1 0 1 0 0 1 0 0 1 1 1 1 1 0 0 0 0 0 0 1 1 1 1 1 0\n",
      " 0 0 0 0 1 0 1 0 1 0 1 0 0 0 0 0 1 1 0 0 1 0 0 0 1 1 1 1 0 1 1 1 1 0 1 0 0\n",
      " 1 0 0 0 0 0 0 1 0 0 1 0 0 0 1 1 1 1 1 0 0 1 1 0 0 0 1 0 1 1 1 0 1 1 0 0 0\n",
      " 0 0 1 1 1 0 1 0 1 1 0 0 1 0 0 1 1 1 0 0 0 1 0 0 1 1 1 0 0 0 1 1 0 1 1 0 0\n",
      " 1 0 0 1 1 1 1 1 1 1 1 1 1 1 0 1 0 1 1 1 0 0 0 0 0 0 1 0 1 0 0 1 0 0 1 1 0\n",
      " 1 0 0 0 0 1 1 1 1 1 0 0 0 0 0 1 1 0 1 1 0 1 1 1 1 1 0 0 1 0 1 0 1 0 0 0 0\n",
      " 0 1 1 1 0 1 0 1 1 0 0 0 1 1 1 0 1 0 0 0 1 0 1 0 1 0 1 0 0 0 1 1 1 0 0 1 0\n",
      " 1 1 0 0 0 0 0 0 0 1 1 0 1 0 0 0 0 1 1 1 1 0 1 0 0 1 0 0 0 1 1 0 0 0 0 1 1\n",
      " 1 1 1 0 0 0 0 0 1 1 0 0 1 1 1 0 0 1 0 1 0 0 1 1 1 1 0 0 1 1 1 1 0]\n",
      "codeword :\n",
      " [0 1 0 ... 0 0 1]\n",
      "codeword is valid!\n",
      "codeword is invalid!\n",
      "448\n",
      "[0 0 1 0 0 0 1 1 0 0 1 1 0 0 1 1 1 0 1 1 0 1 1 1 1 1 0 0 0 0 0 1 1 0 0 0 1\n",
      " 1 0 1 1 1 0 0 1 0 1 0 1 1 1 1 1 1 1 1 0 1 1 0 1 0 1 1 0 1 0 1 1 0 0 0 1 0\n",
      " 0 1 1 1 1 1 0 0 1 1 1 0 0 0 0 1 1 0 0 0 1 1 1 0 1 1 1 0 0 0 1 0 0 0 1 1 1\n",
      " 0 1 0 0 1 0 0 1 0 0 1 0 1 0 0 1 0 0 1 0 1 0 1 1 1 1 1 1 1 1 1 1 0 0 0 0 1\n",
      " 1 1 0 0 1 0 1 0 1 0 0 1 1 0 0 1 0 1 1 1 0 0 0 0 1 1 1 0 0 0 0 0 0 0 0 1 1\n",
      " 1 0 1 0 0 0 1 1 1 0 0 0 1 0 0 1 0 1 0 0 0 0 1 1 0 0 0 1 1 0 1 0 1 0 0 1 1\n",
      " 0 0 1 1 1 0 1 0 1 1 1 0 1 0 0 0 1 1 1 1 0 1 0 1 1 1 1 1 0 1 0 0 0 0 1 0 0\n",
      " 0 0 0 0 0 1 0 0 1 0 0 0 1 0 1 0 0 0 0 1 1 0 1 1 1 1 0 0 1 1 1 0 1 0 0 0 0\n",
      " 1 1 0 0 0 1 0 1 0 0 0 1 0 1 0 1 0 0 0 0 0 1 0 0 1 0 0 0 1 1 1 0 0 1 1 1 0\n",
      " 1 1 1 0 1 1 0 0 0 0 0 0 0 1 0 1 0 0 1 0 0 1 1 1 0 0 0 1 0 1 0 0 0 1 0 1 1\n",
      " 1 0 0 1 1 0 0 1 0 1 0 1 0 1 0 0 0 1 0 1 1 1 0 0 1 0 0 0 0 1 1 1 1 1 1 0 0\n",
      " 0 1 0 1 1 1 1 1 0 1 1 0 1 0 0 1 0 1 0 1 0 1 0 0 0 0 0 1 1 1 0 0 1 0 0 0 1\n",
      " 1 0 0 1 0 1 0 0 0 0 0 0 0 1 1 0 1 0 1 0 1 1 0 0 1 1 1 1 0 1 1 1 1 1 1 0 1\n",
      " 0 0 0 0 0 0 0 1 1 1 1 0 1 1 1 1 1 1 1 0 0 1 1 1 1 0 1 0 0 0 1 1 0 0 0 0 1\n",
      " 1 1 0 1 1 1 1 1 1 0 0 0 0 1 1 0 1 0 1 1 0 1 0 1 1 1 1 1 1 0 0 1 0 0 1 1 1\n",
      " 1 0 0 1 0 0 1 1 1 1 0 1 1 1 0 1 0 0 0 1 0 0 1 0 0 0 1 0 0 1 0 1 0 1 1 1 1\n",
      " 0 1 0 0 0 0 0 0 0 1 0 1 1 1 0 0 1 0 0 0 0 0 1 0 1 1 0 0 1 1 1 0 1 1 0 0 1\n",
      " 0 1 0 1 1 1 0 0 1 1 0 1 1 1 0 0 0 1 1 1 0 1 0 1 0 1 0 1 0 0 0 0 0 0 0 0 0\n",
      " 0 1 0 1 1 0 0 0 1 0 1 0 1 0 0 1 0 1 1 0 1 0 1 0 0 0 1 0 1 0 1 1 0 1 1 0 0\n",
      " 0 1 0 0 1 0 1 0 1 0 0 1 0 0 1 1 0 1 0 0 0 1 0 0 1 0 0 0 0 0 0 1 1 0 0 1 0\n",
      " 1 0 1 1 0 1 1 0 0 0 1 0 1 1 1 0 0 0 0 1 1 0 1 1 0 0 1 1 0 0 1 0 0 1 1 1 0\n",
      " 1 1 1 1 1 0 1 1 0 1 0 1 0 0 0 0 0 1 1 1 1 0 0 0 1 0 1 1 1 0 1 0 1 0 0 0 0\n",
      " 0 0 1 1 0 0 1 1 1 1 1 1 1 1 0 0 1 0 0 1 1 1 0 0 0 0 0 1 0 0 1 0 0 1 1 1 1\n",
      " 0 0 1 0 1 1 0 0 1 1 0 1 0 1 1 1 0 0 0 0 1 0 1 1 0 0 1 1 0 1 0 0 0 0 0 1 0\n",
      " 1 1 0 1 0 0 0 1 1 1 0 0 0 1 1 1 0 1 1 0 0 1 0 1 1 0 1 1 0 1 0 1]\n",
      "(920,)\n"
     ]
    }
   ],
   "source": [
    "# base_matrix_path = 'base_matrices/NR_1_1_48.txt'\n",
    "base_matrix_path = 'base_matrices/NR_1_2_20.txt'\n",
    "expansion_factor = 20\n",
    "en = Encoder(base_matrix_path,expansion_factor)\n",
    "H = en.get_parity_check_matrix()\n",
    "print(\"Parity Check Matrix : \\n\",H)\n",
    "\n",
    "# generating codeword for a random message vector\n",
    "msg = en.generate_random_message()\n",
    "codeword = en.nrldpc_encode(msg)\n",
    "print(\"message :\\n\",msg)\n",
    "print(\"codeword :\\n\",codeword)\n",
    "\n",
    "if(en.check_cword(codeword)):\n",
    "    print(\"codeword is valid!\")\n",
    "else:\n",
    "    print(\"codeword is invalid!\")\n",
    "    \n",
    "if(np.sum(np.dot(H,codeword.T)%2)==0):\n",
    "    print(\"codeword is valid!\")\n",
    "else:\n",
    "    print(\"codeword is invalid!\")\n",
    "    print(np.sum(np.dot(H,codeword.T)%2))\n",
    "    print(np.dot(H,codeword.T)%2)\n",
    "    a = np.dot(H,codeword.T)%2\n",
    "    print(a.shape)"
   ]
  },
  {
   "cell_type": "markdown",
   "id": "5486ac77",
   "metadata": {},
   "source": [
    "### Modulating the codeword (BPSK)"
   ]
  },
  {
   "cell_type": "code",
   "execution_count": 9,
   "id": "94e5e004",
   "metadata": {},
   "outputs": [
    {
     "name": "stdout",
     "output_type": "stream",
     "text": [
      "BPSK Modulated Signal:\n",
      " [ 1  1 -1 ...  1 -1  1]\n"
     ]
    }
   ],
   "source": [
    "# Apply BPSK modulation\n",
    "bpsk_signal = bpsk_modulate(codeword)\n",
    "print(\"BPSK Modulated Signal:\\n\", bpsk_signal)\n"
   ]
  },
  {
   "cell_type": "markdown",
   "id": "40aabf6a",
   "metadata": {},
   "source": [
    "### Adding Noise (AWGN) to the vector"
   ]
  },
  {
   "cell_type": "code",
   "execution_count": 10,
   "id": "6ebae9e2",
   "metadata": {},
   "outputs": [
    {
     "name": "stdout",
     "output_type": "stream",
     "text": [
      "Received Signal with Noise:\n",
      " [0 1 1 ... 1 0 0]\n"
     ]
    }
   ],
   "source": [
    "# sigma = 0.9\n",
    "# # Add Gaussian noise to the signal\n",
    "# received_signal = add_gaussian_noise(bpsk_signal, sigma)\n",
    "# print(\"Received Signal with Noise:\\n\", received_signal)\n",
    "\n",
    "p = 0.3\n",
    "# Add VSC noise to the signal\n",
    "received_signal = add_bsc_noise(codeword, p)\n",
    "print(\"Received Signal with Noise:\\n\", received_signal)\n"
   ]
  },
  {
   "cell_type": "markdown",
   "id": "ec349a29",
   "metadata": {},
   "source": [
    "### Demodulating the recieved vector"
   ]
  },
  {
   "cell_type": "code",
   "execution_count": 9,
   "id": "5ec2241a",
   "metadata": {},
   "outputs": [],
   "source": [
    "# Demodulate the received signal back to binary\n",
    "demodulated_message = bpsk_demodulate(received_signal)\n",
    "# print(\"Demodulated Binary Message:\\n\", demodulated_message)\n"
   ]
  },
  {
   "cell_type": "code",
   "execution_count": 10,
   "id": "6261b0a2",
   "metadata": {},
   "outputs": [
    {
     "name": "stdout",
     "output_type": "stream",
     "text": [
      "[1 0 1 ... 1 0 0]\n",
      "Number of errors :  184 / 1360\n"
     ]
    }
   ],
   "source": [
    "print((demodulated_message+codeword)%2)\n",
    "print(\"Number of errors : \",np.sum((demodulated_message+codeword)%2),\"/\",codeword.shape[0])"
   ]
  },
  {
   "cell_type": "markdown",
   "id": "4cd09bc8",
   "metadata": {},
   "source": [
    "### Decoding the recieved vector"
   ]
  },
  {
   "cell_type": "code",
   "execution_count": 11,
   "id": "4ea78e4e",
   "metadata": {},
   "outputs": [],
   "source": [
    "channel_model = \"bsc\"\n",
    "channel_parameters = [p]\n",
    "num_iter = 5000\n",
    "dec = Decoder(H,channel_model,channel_parameters,num_iter)"
   ]
  },
  {
   "cell_type": "code",
   "execution_count": 12,
   "id": "4dde1c66",
   "metadata": {
    "scrolled": true
   },
   "outputs": [
    {
     "name": "stdout",
     "output_type": "stream",
     "text": [
      "Iteration  0\t\n",
      "Iteration  100\t\n",
      "Iteration  200\t\n",
      "Iteration  300\t\n",
      "Iteration  400\t\n",
      "Iteration  500\t\n",
      "Iteration  600\t\n",
      "Iteration  700\t\n",
      "Iteration  800\t\n",
      "Iteration  900\t\n",
      "Iteration  1000\t\n",
      "Iteration  1100\t\n",
      "Iteration  1200\t\n",
      "Iteration  1300\t\n",
      "Iteration  1400\t\n",
      "Iteration  1500\t\n",
      "Iteration  1600\t\n",
      "Iteration  1700\t\n",
      "Iteration  1800\t\n",
      "Iteration  1900\t\n",
      "Iteration  2000\t\n",
      "Iteration  2100\t\n",
      "Iteration  2200\t\n",
      "Iteration  2300\t\n",
      "Iteration  2400\t\n",
      "Iteration  2500\t\n",
      "Iteration  2600\t\n",
      "Iteration  2700\t\n",
      "Iteration  2800\t\n",
      "Iteration  2900\t\n",
      "Iteration  3000\t\n",
      "Iteration  3100\t\n",
      "Iteration  3200\t\n",
      "Iteration  3300\t\n",
      "Iteration  3400\t\n",
      "Iteration  3500\t\n",
      "Iteration  3600\t\n",
      "Iteration  3700\t\n",
      "Iteration  3800\t\n",
      "Iteration  3900\t\n",
      "Iteration  4000\t\n",
      "Iteration  4100\t\n",
      "Iteration  4200\t\n",
      "Iteration  4300\t\n",
      "Iteration  4400\t\n",
      "Iteration  4500\t\n",
      "Iteration  4600\t\n",
      "Iteration  4700\t\n",
      "Iteration  4800\t\n",
      "Iteration  4900\t\n",
      "Time taken : 58.92180633544922\n"
     ]
    }
   ],
   "source": [
    "t1 = time.time()\n",
    "c_hat = dec.decode(received_signal,100)\n",
    "t2 = time.time()\n",
    "print(\"Time taken :\",t2-t1)"
   ]
  },
  {
   "cell_type": "code",
   "execution_count": 13,
   "id": "a2b88dc4",
   "metadata": {},
   "outputs": [
    {
     "name": "stdout",
     "output_type": "stream",
     "text": [
      "obtained codeword :  [0 0 1 ... 0 0 1]\n",
      "Dot product : \t\t [0 0 0 1 0 0 0 0 0 0 0 0 0 0 0 0 0 0 0 0 0 0 1 0 0 1 0 0 0 0 0 0 0 0 0 0 0\n",
      " 1 0 0 0 1 0 0 0 1 0 0 1 0 0 0 1 1 0 0 0 0 0 0 1 0 0 0 0 0 0 0 0 0 0 0 0 1\n",
      " 0 0 0 1 1 0 0 0 0 0 0 0 0 0 0 0 0 0 0 0 0 0 0 0 0 0 0 0 0 0 0 0 0 0 0 0 0\n",
      " 0 0 0 0 0 0 0 0 0 0 0 0 0 0 0 0 0 0 0 0 0 0 0 0 0 0 0 0 0 0 0 0 0 0 0 0 0\n",
      " 0 0 0 0 0 0 0 0 0 0 0 0 0 0 0 0 0 0 0 0 0 0 0 0 0 0 0 0 0 0 0 0 0 0 0 0 0\n",
      " 0 0 0 0 0 0 0 0 0 0 0 0 0 0 0 0 0 0 0 0 0 0 0 0 0 0 0 0 0 0 0 0 0 0 0 0 0\n",
      " 0 0 0 0 0 0 0 0 0 0 0 0 0 0 0 0 0 0 0 0 0 0 0 0 0 0 0 0 0 0 0 0 0 0 0 0 0\n",
      " 0 0 0 0 0 0 0 0 0 0 0 0 0 0 0 0 0 0 0 0 0 0 0 0 0 0 0 0 0 0 0 0 0 0 0 0 0\n",
      " 0 0 0 0 0 0 0 0 0 0 0 0 0 0 0 0 0 0 0 0 0 0 0 0 0 0 0 0 0 0 0 0 0 0 0 0 0\n",
      " 0 0 0 0 0 0 0 0 0 0 0 0 0 0 0 0 0 0 0 0 0 0 0 0 0 0 0 0 0 0 0 0 0 0 0 0 0\n",
      " 0 0 0 0 0 0 0 0 0 0 0 0 0 0 0 0 0 0 0 0 0 0 0 0 0 0 0 0 0 0 0 0 0 0 0 0 0\n",
      " 0 0 0 0 0 0 0 0 0 0 0 0 0 0 0 0 0 0 0 0 0 0 0 0 0 0 0 0 0 0 0 0 0 0 0 0 0\n",
      " 0 0 0 0 0 0 0 0 0 0 0 0 0 0 0 0 0 0 0 0 0 0 0 0 0 0 0 0 0 0 0 0 0 0 0 0 0\n",
      " 0 0 0 0 0 0 0 0 0 0 0 0 0 0 0 0 0 0 0 0 0 0 0 0 0 0 0 0 0 0 0 0 0 0 0 0 0\n",
      " 0 0 0 0 0 0 0 0 0 0 0 0 0 0 0 0 0 0 0 0 0 0 0 0 0 0 0 0 0 0 0 0 0 0 0 0 0\n",
      " 0 0 0 0 0 0 0 0 0 0 0 0 0 0 0 0 0 0 0 0 0 0 0 0 0 0 0 0 0 0 0 0 0 0 0 0 0\n",
      " 0 0 0 0 0 0 0 0 0 0 0 0 0 0 0 0 0 0 0 0 0 0 0 0 0 0 0 0 0 0 0 0 0 0 0 0 0\n",
      " 0 0 0 0 0 0 0 0 0 0 0 0 0 0 0 0 0 0 0 0 0 0 0 0 0 0 0 0 0 0 0 0 0 0 0 0 0\n",
      " 0 0 0 0 0 0 0 0 0 0 0 0 0 0 0 0 0 0 0 0 0 0 0 0 0 0 0 0 0 0 0 0 0 0 0 0 0\n",
      " 0 0 0 0 0 0 0 0 0 0 0 0 0 0 0 0 0 0 0 0 0 0 0 0 0 0 0 0 0 0 0 0 0 0 0 0 0\n",
      " 0 0 0 0 0 0 0 0 0 0 0 0 0 0 0 0 0 0 0 0 0 0 0 0 0 0 0 0 0 0 0 0 0 0 0 0 0\n",
      " 0 0 0 0 0 0 0 0 0 0 0 0 0 0 0 0 0 0 0 0 0 0 0 0 0 0 0 0 0 0 0 0 0 0 0 0 0\n",
      " 0 0 0 0 0 0 0 0 0 0 0 0 0 0 0 0 0 0 0 0 0 0 0 0 0 0 0 0 0 0 0 0 0 0 0 0 0\n",
      " 0 0 0 0 0 0 0 0 0 0 0 0 0 0 0 0 0 0 0 0 0 0 0 0 0 0 0 0 0 0 0 0 0 0 0 0 0\n",
      " 0 0 0 0 0 0 0 0 0 0 0 0 0 0 0 0 0 0 0 0 0 0 0 0 0 0 0 0 0 0 0 0]\n",
      "0\n"
     ]
    }
   ],
   "source": [
    "c_hat = np.array([1 if val else 0 for val in c_hat])\n",
    "print(\"obtained codeword : \",c_hat)\n",
    "dp = np.dot(c_hat,H.T)%2\n",
    "print(\"Dot product : \\t\\t\",dp)\n",
    "print(en.check_cword(c_hat))"
   ]
  },
  {
   "cell_type": "code",
   "execution_count": 14,
   "id": "f457a937",
   "metadata": {},
   "outputs": [
    {
     "name": "stdout",
     "output_type": "stream",
     "text": [
      "Error fraction :  0.3698529411764706\n",
      "907 / 920  Check Nodes satisfied\n"
     ]
    }
   ],
   "source": [
    "print(\"Error fraction : \",np.sum((c_hat+codeword)%2)/c_hat.shape[0])\n",
    "print(len(dp)-np.sum(dp),\"/\",len(dp),\" Check Nodes satisfied\")"
   ]
  },
  {
   "cell_type": "code",
   "execution_count": 15,
   "id": "cebf3707",
   "metadata": {},
   "outputs": [
    {
     "name": "stdout",
     "output_type": "stream",
     "text": [
      "[0 0 0 ... 0 1 1]\n"
     ]
    }
   ],
   "source": [
    "print((c_hat+codeword)%2)"
   ]
  },
  {
   "cell_type": "code",
   "execution_count": null,
   "id": "e4769053",
   "metadata": {},
   "outputs": [],
   "source": []
  }
 ],
 "metadata": {
  "kernelspec": {
   "display_name": "Python 3 (ipykernel)",
   "language": "python",
   "name": "python3"
  },
  "language_info": {
   "codemirror_mode": {
    "name": "ipython",
    "version": 3
   },
   "file_extension": ".py",
   "mimetype": "text/x-python",
   "name": "python",
   "nbconvert_exporter": "python",
   "pygments_lexer": "ipython3",
   "version": "3.11.5"
  }
 },
 "nbformat": 4,
 "nbformat_minor": 5
}
