{
 "cells": [
  {
   "cell_type": "code",
   "execution_count": 1,
   "id": "1bd61039",
   "metadata": {},
   "outputs": [],
   "source": [
    "import numpy as np\n",
    "import math\n",
    "import numpy as np\n",
    "import matplotlib.pyplot as plt\n",
    "from scipy.linalg import qr\n",
    "import itertools\n",
    "from scipy.special import erfc\n",
    "import galois\n",
    "# from MI_Dec import MI_Dec\n",
    "from Residual_Dec import Residual_Dec\n",
    "from Dec import Dec"
   ]
  },
  {
   "cell_type": "code",
   "execution_count": 2,
   "id": "efb7dc9f",
   "metadata": {},
   "outputs": [],
   "source": [
    "# generates list of codewords corresponding to the parity check matrix H\n",
    "def get_codewords(H):\n",
    "    GF = galois.GF(2)\n",
    "    A = GF(H)\n",
    "    N = A.null_space()\n",
    "    vec = [np.array(v) for v in itertools.product([0, 1], repeat=N.shape[0])]\n",
    "    C = np.array(GF(vec) @ N)\n",
    "    return C\n",
    "\n",
    "\n",
    "def circular_shift_identity(z, k):\n",
    "    if k == -1:\n",
    "        return np.zeros((z, z), dtype=int)\n",
    "    else:\n",
    "        return np.roll(np.eye(z, dtype=int), -k, axis=1)\n",
    "\n",
    "def expand_base_matrix(B, z):\n",
    "    m, n = B.shape\n",
    "    H = np.zeros((m * z, n * z), dtype=int)  # Full parity check matrix initialized to zeros\n",
    "    for i in range(m):\n",
    "        for j in range(n):\n",
    "            # Expand each base matrix element into a z x z block\n",
    "            block = circular_shift_identity(z, B[i, j])\n",
    "            H[i * z:(i + 1) * z, j * z:(j + 1) * z] = block\n",
    "    return H\n"
   ]
  },
  {
   "cell_type": "code",
   "execution_count": 3,
   "id": "a410abd8",
   "metadata": {},
   "outputs": [
    {
     "name": "stdout",
     "output_type": "stream",
     "text": [
      "H : \n",
      " [[0 0 1 1 0 0 1 0 0 0 0 0 0 0 0]\n",
      " [1 0 0 0 1 0 0 1 0 0 0 0 0 0 0]\n",
      " [0 1 0 0 0 1 0 0 1 0 0 0 0 0 0]\n",
      " [1 0 0 0 0 1 1 0 0 0 0 0 0 0 0]\n",
      " [0 1 0 1 0 0 0 1 0 0 0 0 0 0 0]\n",
      " [0 0 1 0 1 0 0 0 1 0 0 0 0 0 0]\n",
      " [1 0 0 1 0 0 0 0 1 0 0 0 0 0 0]\n",
      " [0 1 0 0 1 0 1 0 0 0 0 0 0 0 0]\n",
      " [0 0 1 0 0 1 0 1 0 0 0 0 0 0 0]\n",
      " [1 0 0 1 0 0 1 0 0 1 0 0 1 0 0]\n",
      " [0 1 0 0 1 0 0 1 0 0 1 0 0 1 0]\n",
      " [0 0 1 0 0 1 0 0 1 0 0 1 0 0 1]]\n",
      "Codewords : \n",
      " [[0 0 0 0 0 0 0 0 0 0 0 0 0 0 0]\n",
      " [0 0 0 0 0 0 0 0 0 0 0 1 0 0 1]\n",
      " [0 0 0 0 0 0 0 0 0 0 1 0 0 1 0]\n",
      " [0 0 0 0 0 0 0 0 0 0 1 1 0 1 1]\n",
      " [0 0 0 0 0 0 0 0 0 1 0 0 1 0 0]\n",
      " [0 0 0 0 0 0 0 0 0 1 0 1 1 0 1]\n",
      " [0 0 0 0 0 0 0 0 0 1 1 0 1 1 0]\n",
      " [0 0 0 0 0 0 0 0 0 1 1 1 1 1 1]\n",
      " [0 0 0 1 1 1 1 1 1 0 0 0 0 0 0]\n",
      " [0 0 0 1 1 1 1 1 1 0 0 1 0 0 1]\n",
      " [0 0 0 1 1 1 1 1 1 0 1 0 0 1 0]\n",
      " [0 0 0 1 1 1 1 1 1 0 1 1 0 1 1]\n",
      " [0 0 0 1 1 1 1 1 1 1 0 0 1 0 0]\n",
      " [0 0 0 1 1 1 1 1 1 1 0 1 1 0 1]\n",
      " [0 0 0 1 1 1 1 1 1 1 1 0 1 1 0]\n",
      " [0 0 0 1 1 1 1 1 1 1 1 1 1 1 1]\n",
      " [1 1 1 0 0 0 1 1 1 0 0 0 0 0 0]\n",
      " [1 1 1 0 0 0 1 1 1 0 0 1 0 0 1]\n",
      " [1 1 1 0 0 0 1 1 1 0 1 0 0 1 0]\n",
      " [1 1 1 0 0 0 1 1 1 0 1 1 0 1 1]\n",
      " [1 1 1 0 0 0 1 1 1 1 0 0 1 0 0]\n",
      " [1 1 1 0 0 0 1 1 1 1 0 1 1 0 1]\n",
      " [1 1 1 0 0 0 1 1 1 1 1 0 1 1 0]\n",
      " [1 1 1 0 0 0 1 1 1 1 1 1 1 1 1]\n",
      " [1 1 1 1 1 1 0 0 0 0 0 0 0 0 0]\n",
      " [1 1 1 1 1 1 0 0 0 0 0 1 0 0 1]\n",
      " [1 1 1 1 1 1 0 0 0 0 1 0 0 1 0]\n",
      " [1 1 1 1 1 1 0 0 0 0 1 1 0 1 1]\n",
      " [1 1 1 1 1 1 0 0 0 1 0 0 1 0 0]\n",
      " [1 1 1 1 1 1 0 0 0 1 0 1 1 0 1]\n",
      " [1 1 1 1 1 1 0 0 0 1 1 0 1 1 0]\n",
      " [1 1 1 1 1 1 0 0 0 1 1 1 1 1 1]]\n",
      "32  codewords found\n",
      "dmin =  2\n"
     ]
    }
   ],
   "source": [
    "# B = np.array([[0,2,-1,3,-1,-1,2,4,1,0],\n",
    "#             [3,1,-1,-1,0,0,1,2,3,0],\n",
    "#             [1,0,0,-1,1,4,2,1,0,-1],\n",
    "#             [-1,0,0,2,3,-1,-1,-1,0,-1],\n",
    "#             [1,0,2,0,1,0,-1,-1,-1,-1],\n",
    "#             [2,1,0,0,2,-1,-1,-1,1,-1]]\n",
    "#             ,dtype=int)\n",
    "# print(\"B = \\n\",B)\n",
    "# z = 5\n",
    "# H = expand_base_matrix(B,z)\n",
    "\n",
    "H = np.array( [[0,0,1,1,0,0,1,0,0,0,0,0,0,0,0]\n",
    ",[1,0,0,0,1,0,0,1,0,0,0,0,0,0,0]\n",
    ",[0,1,0,0,0,1,0,0,1,0,0,0,0,0,0]\n",
    ",[1,0,0,0,0,1,1,0,0,0,0,0,0,0,0]\n",
    ",[0,1,0,1,0,0,0,1,0,0,0,0,0,0,0]\n",
    ",[0,0,1,0,1,0,0,0,1,0,0,0,0,0,0]\n",
    ",[1,0,0,1,0,0,0,0,1,0,0,0,0,0,0]\n",
    ",[0,1,0,0,1,0,1,0,0,0,0,0,0,0,0]\n",
    ",[0,0,1,0,0,1,0,1,0,0,0,0,0,0,0]\n",
    ",[1,0,0,1,0,0,1,0,0,1,0,0,1,0,0]\n",
    ",[0,1,0,0,1,0,0,1,0,0,1,0,0,1,0]\n",
    ",[0,0,1,0,0,1,0,0,1,0,0,1,0,0,1]],dtype=int)\n",
    "n = H.shape[1]\n",
    "\n",
    "\n",
    "\n",
    "print(\"H : \\n\",H)\n",
    "\n",
    "C = get_codewords(H)\n",
    "print(\"Codewords : \\n\",C)\n",
    "print(len(C),\" codewords found\")\n",
    "dmin = np.min(np.sum(C[1:],axis=1))\n",
    "print(\"dmin = \",dmin)\n",
    "\n"
   ]
  },
  {
   "cell_type": "code",
   "execution_count": 4,
   "id": "a6e62b0f",
   "metadata": {},
   "outputs": [],
   "source": [
    "def getBER_residual(snr,H,C,num_iter,N):\n",
    "    # this is for awgn, similarly do for others too\n",
    "    avg = 0\n",
    "    tg = Residual_Dec(H,\"bsc\",0,num_iter,1)\n",
    "    \n",
    "    for i in range(N):\n",
    "        c = C[np.random.choice(len(C))]\n",
    "        sigma = 1/math.sqrt(snr)\n",
    "        y = np.power(-1,c) + np.random.normal(loc=0, scale=sigma, size=c.shape)\n",
    "        c_hat = tg.decode(y)\n",
    "        c_hat = [1 if val else 0 for val in c_hat]\n",
    "        c_hat = np.array(c_hat)%2\n",
    "        e = np.sum((c_hat+c)%2)/len(c)\n",
    "        avg = avg + e\n",
    "    \n",
    "    return avg/N\n"
   ]
  },
  {
   "cell_type": "code",
   "execution_count": 37,
   "id": "a8091e34",
   "metadata": {},
   "outputs": [],
   "source": [
    "num_iter = 100\n",
    "snr = 1.2\n",
    "sigma = 1/math.sqrt(snr)\n",
    "\n",
    "dec = Residual_Dec(H=H,channel_model=\"bsc\",channel_parameters=0,num_iter=num_iter,cluster_size=1)\n",
    "# dec = Dec(H=H,channel_model=\"bsc\",channel_parameters=0,num_iter=num_iter,cluster_size=1)"
   ]
  },
  {
   "cell_type": "code",
   "execution_count": 38,
   "id": "c9ccb99d",
   "metadata": {},
   "outputs": [
    {
     "name": "stdout",
     "output_type": "stream",
     "text": [
      "codeword = [0 0 0 1 1 1 1 1 1 0 1 0 0 1 0]\n",
      "recieved codeword = [ 0.55  0.58  1.15 -0.96 -0.99 -0.79 -1.65 -0.35  0.89  0.98 -0.81  1.34\n",
      "  2.11 -1.56  1.82]\n",
      "Decoded codeword = [0 0 0 0 1 1 0 0 0 0 1 0 0 1 0]\n",
      "Error vector = [0 0 0 1 0 0 1 1 1 0 0 0 0 0 0]\n"
     ]
    }
   ],
   "source": [
    "c = C[np.random.choice(len(C))]\n",
    "print(f\"codeword = {c}\")\n",
    "y = np.power(-1,c) + np.random.normal(loc=0, scale=sigma, size=c.shape)\n",
    "print(f\"recieved codeword = {np.round(y,2)}\")\n",
    "c_hat = dec.decode(y)\n",
    "print(f\"Decoded codeword = {c_hat}\")\n",
    "e = (c+c_hat)%2\n",
    "print(f\"Error vector = {e}\")"
   ]
  },
  {
   "cell_type": "code",
   "execution_count": 48,
   "id": "ec54552b",
   "metadata": {},
   "outputs": [],
   "source": [
    "print(\"BERs for residual-scheduling\\n-----------------\\n\")\n",
    "snrdb_vals = [0.1, 0.2, 0.35, 0.5, 0.9, 1.5, 2.2, 3, 3.7, 4.3, 4.9]\n",
    "bers_residual = []\n",
    "N = 1000\n",
    "for snrdb in snrdb_vals:\n",
    "    snr = math.pow(10,snrdb/20)\n",
    "    ber = getBER_residual(snr,H,C,100,N)\n",
    "    bers_residual.append(ber)\n",
    "    print(f\"BER = {ber}\\t\\t\\t SNR(db) = {snrdb}\")\n",
    "#     snrdb_vals.append(snrdb)"
   ]
  },
  {
   "cell_type": "code",
   "execution_count": null,
   "id": "50ae103e",
   "metadata": {},
   "outputs": [],
   "source": [
    "bers_round_robin = \n",
    " [0.05097999999999882, 0.050506666666665465, 0.04701999999999893, 0.047526666666665565, 0.04320666666666572, 0.036659999999999346, 0.03204666666666622, 0.026526666666666473, 0.020719999999999947, 0.017320000000000068, 0.01510000000000014]\n",
    "bers_flooding =  \n",
    " [0.10109333333334035, 0.10088666666667416, 0.09908000000000743, 0.09604000000000677, 0.08928666666667322, 0.0784600000000042, 0.07056666666666958, 0.05982666666666724, 0.051219999999998114, 0.046546666666665015, 0.03915333333333203]\n"
   ]
  },
  {
   "cell_type": "code",
   "execution_count": null,
   "id": "722bba78",
   "metadata": {},
   "outputs": [],
   "source": [
    "plt.plot(snrdb_vals, bers_round_robin, 'o')  \n",
    "plt.plot(snrdb_vals, bers_round_robin, '--',label=\"Round Robin\")\n",
    "plt.plot(snrdb_vals, bers_flooding, 'o')  \n",
    "plt.plot(snrdb_vals, bers_flooding, '--',label=\"Flooding\")\n",
    "plt.plot(snrdb_vals, bers_residual, 'o')  \n",
    "plt.plot(snrdb_vals, bers_residual, '--',label=\"Residual\")\n",
    "\n",
    "\n",
    "plt.title(\"BER vs SNR Plot\")\n",
    "plt.ylabel(\"BER\")\n",
    "plt.xlabel(\"SNR (in dB)\")\n",
    "plt.legend()\n",
    "plt.yscale('log')\n",
    "plt.grid(True, which=\"both\", ls=\"--\")\n",
    "plt.show()\n"
   ]
  }
 ],
 "metadata": {
  "kernelspec": {
   "display_name": "Python 3 (ipykernel)",
   "language": "python",
   "name": "python3"
  },
  "language_info": {
   "codemirror_mode": {
    "name": "ipython",
    "version": 3
   },
   "file_extension": ".py",
   "mimetype": "text/x-python",
   "name": "python",
   "nbconvert_exporter": "python",
   "pygments_lexer": "ipython3",
   "version": "3.11.5"
  }
 },
 "nbformat": 4,
 "nbformat_minor": 5
}
