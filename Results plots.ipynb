{
 "cells": [
  {
   "cell_type": "code",
   "execution_count": 1,
   "id": "ebe00a89",
   "metadata": {},
   "outputs": [],
   "source": [
    "import numpy as np\n",
    "import math\n",
    "import matplotlib.pyplot as plt\n",
    "from scipy.linalg import qr\n",
    "import itertools\n",
    "from scipy.special import erfc\n",
    "import galois\n",
    "from Dec import Dec"
   ]
  },
  {
   "cell_type": "code",
   "execution_count": 2,
   "id": "cf4bb6a8",
   "metadata": {},
   "outputs": [
    {
     "name": "stdout",
     "output_type": "stream",
     "text": [
      "H : \n",
      " [[0 0 1 1 0 0 1 0 0 0 0 0 0 0 0]\n",
      " [1 0 0 0 1 0 0 1 0 0 0 0 0 0 0]\n",
      " [0 1 0 0 0 1 0 0 1 0 0 0 0 0 0]\n",
      " [1 0 0 0 0 1 1 0 0 0 0 0 0 0 0]\n",
      " [0 1 0 1 0 0 0 1 0 0 0 0 0 0 0]\n",
      " [0 0 1 0 1 0 0 0 1 0 0 0 0 0 0]\n",
      " [1 0 0 1 0 0 0 0 1 0 0 0 0 0 0]\n",
      " [0 1 0 0 1 0 1 0 0 0 0 0 0 0 0]\n",
      " [0 0 1 0 0 1 0 1 0 0 0 0 0 0 0]\n",
      " [1 0 0 1 0 0 1 0 0 1 0 0 1 0 0]\n",
      " [0 1 0 0 1 0 0 1 0 0 1 0 0 1 0]\n",
      " [0 0 1 0 0 1 0 0 1 0 0 1 0 0 1]]\n",
      "\n",
      "Codewords :\n",
      "[[0 0 0 0 0 0 0 0 0 0 0 0 0 0 0]\n",
      " [0 0 0 0 0 0 0 0 0 0 0 1 0 0 1]\n",
      " [0 0 0 0 0 0 0 0 0 0 1 0 0 1 0]\n",
      " [0 0 0 0 0 0 0 0 0 0 1 1 0 1 1]\n",
      " [0 0 0 0 0 0 0 0 0 1 0 0 1 0 0]\n",
      " [0 0 0 0 0 0 0 0 0 1 0 1 1 0 1]\n",
      " [0 0 0 0 0 0 0 0 0 1 1 0 1 1 0]\n",
      " [0 0 0 0 0 0 0 0 0 1 1 1 1 1 1]\n",
      " [0 0 0 1 1 1 1 1 1 0 0 0 0 0 0]\n",
      " [0 0 0 1 1 1 1 1 1 0 0 1 0 0 1]\n",
      " [0 0 0 1 1 1 1 1 1 0 1 0 0 1 0]\n",
      " [0 0 0 1 1 1 1 1 1 0 1 1 0 1 1]\n",
      " [0 0 0 1 1 1 1 1 1 1 0 0 1 0 0]\n",
      " [0 0 0 1 1 1 1 1 1 1 0 1 1 0 1]\n",
      " [0 0 0 1 1 1 1 1 1 1 1 0 1 1 0]\n",
      " [0 0 0 1 1 1 1 1 1 1 1 1 1 1 1]\n",
      " [1 1 1 0 0 0 1 1 1 0 0 0 0 0 0]\n",
      " [1 1 1 0 0 0 1 1 1 0 0 1 0 0 1]\n",
      " [1 1 1 0 0 0 1 1 1 0 1 0 0 1 0]\n",
      " [1 1 1 0 0 0 1 1 1 0 1 1 0 1 1]\n",
      " [1 1 1 0 0 0 1 1 1 1 0 0 1 0 0]\n",
      " [1 1 1 0 0 0 1 1 1 1 0 1 1 0 1]\n",
      " [1 1 1 0 0 0 1 1 1 1 1 0 1 1 0]\n",
      " [1 1 1 0 0 0 1 1 1 1 1 1 1 1 1]\n",
      " [1 1 1 1 1 1 0 0 0 0 0 0 0 0 0]\n",
      " [1 1 1 1 1 1 0 0 0 0 0 1 0 0 1]\n",
      " [1 1 1 1 1 1 0 0 0 0 1 0 0 1 0]\n",
      " [1 1 1 1 1 1 0 0 0 0 1 1 0 1 1]\n",
      " [1 1 1 1 1 1 0 0 0 1 0 0 1 0 0]\n",
      " [1 1 1 1 1 1 0 0 0 1 0 1 1 0 1]\n",
      " [1 1 1 1 1 1 0 0 0 1 1 0 1 1 0]\n",
      " [1 1 1 1 1 1 0 0 0 1 1 1 1 1 1]]\n",
      "dmin =  2\n"
     ]
    }
   ],
   "source": [
    "H = np.array( [[0,0,1,1,0,0,1,0,0,0,0,0,0,0,0]\n",
    ",[1,0,0,0,1,0,0,1,0,0,0,0,0,0,0]\n",
    ",[0,1,0,0,0,1,0,0,1,0,0,0,0,0,0]\n",
    ",[1,0,0,0,0,1,1,0,0,0,0,0,0,0,0]\n",
    ",[0,1,0,1,0,0,0,1,0,0,0,0,0,0,0]\n",
    ",[0,0,1,0,1,0,0,0,1,0,0,0,0,0,0]\n",
    ",[1,0,0,1,0,0,0,0,1,0,0,0,0,0,0]\n",
    ",[0,1,0,0,1,0,1,0,0,0,0,0,0,0,0]\n",
    ",[0,0,1,0,0,1,0,1,0,0,0,0,0,0,0]\n",
    ",[1,0,0,1,0,0,1,0,0,1,0,0,1,0,0]\n",
    ",[0,1,0,0,1,0,0,1,0,0,1,0,0,1,0]\n",
    ",[0,0,1,0,0,1,0,0,1,0,0,1,0,0,1]],dtype=int)\n",
    "n = H.shape[1]\n",
    "binary_vectors = [np.array(v) for v in itertools.product([0, 1], repeat=n)]\n",
    "C = []\n",
    "for c in binary_vectors:\n",
    "    if np.sum(np.dot(H,c.T)%2)==0:\n",
    "        C.append(c)\n",
    "\n",
    "\n",
    "print(\"H : \\n\",H)\n",
    "\n",
    "n = H.shape[1]\n",
    "binary_vectors = [np.array(v) for v in itertools.product([0, 1], repeat=n)]\n",
    "C = []\n",
    "for c in binary_vectors:\n",
    "    if np.sum(np.dot(H,c.T)%2)==0:\n",
    "        C.append(c)\n",
    "\n",
    "print(\"\\nCodewords :\")\n",
    "C = np.array(C)\n",
    "print(C)\n",
    "\n",
    "dmin = np.min(np.sum(C[1:],axis=1))\n",
    "print(\"dmin = \",dmin)\n"
   ]
  },
  {
   "cell_type": "markdown",
   "id": "2b717d25",
   "metadata": {},
   "source": [
    "# BER vs SNR plot"
   ]
  },
  {
   "cell_type": "code",
   "execution_count": 4,
   "id": "9bce15fd",
   "metadata": {},
   "outputs": [],
   "source": [
    "def getBER_round_robin(snr,H,C,num_iter,N):\n",
    "    # this is for bsc, similarly do for others too\n",
    "    avg = 0\n",
    "    tg = Dec(H,\"bsc\",0,num_iter,3)\n",
    "    \n",
    "    for i in range(N):\n",
    "        c = C[np.random.choice(len(C))]\n",
    "        sigma = 1/math.sqrt(snr)\n",
    "        y = np.power(-1,c) + np.random.normal(loc=0, scale=sigma, size=c.shape)\n",
    "        c_hat = tg.decode(y)\n",
    "        c_hat = [1 if val else 0 for val in c_hat]\n",
    "        c_hat = np.array(c_hat)%2\n",
    "        e = np.sum((c_hat+c)%2)/len(c)\n",
    "        avg = avg + e\n",
    "    \n",
    "    return avg/N\n",
    "    "
   ]
  },
  {
   "cell_type": "code",
   "execution_count": 5,
   "id": "1ab4ab88",
   "metadata": {},
   "outputs": [],
   "source": [
    "def getBER_flooding(snr,H,C,num_iter,N):\n",
    "    # this is for bsc, similarly do for others too\n",
    "    avg = 0\n",
    "    tg = Dec(H,\"bsc\",0,num_iter,H.shape[0])\n",
    "    \n",
    "    for i in range(N):\n",
    "        c = C[np.random.choice(len(C))]\n",
    "        sigma = 1/math.sqrt(snr)\n",
    "        y = np.power(- 1,c) + np.random.normal(loc=0, scale=sigma, size=c.shape)\n",
    "        c_hat = tg.decode(y)\n",
    "        c_hat = [1 if val else 0 for val in c_hat]\n",
    "        c_hat = np.array(c_hat)%2\n",
    "        e = np.sum((c_hat+c)%2)/len(c)\n",
    "        avg = avg + e\n",
    "    \n",
    "    return avg/N\n",
    "    "
   ]
  },
  {
   "cell_type": "markdown",
   "id": "2bd49fa9",
   "metadata": {},
   "source": [
    "### Getting BER plot for flooding"
   ]
  },
  {
   "cell_type": "code",
   "execution_count": 11,
   "id": "ff0909c5",
   "metadata": {
    "scrolled": true
   },
   "outputs": [
    {
     "name": "stdout",
     "output_type": "stream",
     "text": [
      "BERs for flooding\n",
      "-----------------\n",
      "\n",
      "BER = 0.10109333333334035\t\t\t SNR(db) = 0.1\n",
      "BER = 0.10088666666667416\t\t\t SNR(db) = 0.2\n",
      "BER = 0.09908000000000743\t\t\t SNR(db) = 0.35\n",
      "BER = 0.09604000000000677\t\t\t SNR(db) = 0.5\n",
      "BER = 0.08928666666667322\t\t\t SNR(db) = 0.9\n",
      "BER = 0.0784600000000042\t\t\t SNR(db) = 1.5\n",
      "BER = 0.07056666666666958\t\t\t SNR(db) = 2.2\n",
      "BER = 0.05982666666666724\t\t\t SNR(db) = 3\n",
      "BER = 0.051219999999998114\t\t\t SNR(db) = 3.7\n",
      "BER = 0.046546666666665015\t\t\t SNR(db) = 4.3\n",
      "BER = 0.03915333333333203\t\t\t SNR(db) = 4.9\n"
     ]
    }
   ],
   "source": [
    "print(\"BERs for flooding\\n-----------------\\n\")\n",
    "snrdb_vals = [0.1, 0.2, 0.35, 0.5, 0.9, 1.5, 2.2, 3, 3.7, 4.3, 4.9]\n",
    "bers_flooding = []\n",
    "N = 10000\n",
    "for snrdb in snrdb_vals:\n",
    "    snr = math.pow(10,snrdb/20)\n",
    "    ber = getBER_flooding(snr,H,C,100,N)\n",
    "    bers_flooding.append(ber)\n",
    "    print(f\"BER = {ber}\\t\\t\\t SNR(db) = {snrdb}\")\n",
    "#     snrdb_vals.append(snrdb)"
   ]
  },
  {
   "cell_type": "markdown",
   "id": "1a0a7fec",
   "metadata": {},
   "source": [
    "### Getting BER plot for round-robin"
   ]
  },
  {
   "cell_type": "code",
   "execution_count": 12,
   "id": "8163c759",
   "metadata": {
    "scrolled": true
   },
   "outputs": [
    {
     "name": "stdout",
     "output_type": "stream",
     "text": [
      "BERs for round-robin\n",
      "-----------------\n",
      "\n",
      "BER = 0.05097999999999882\t\t\t SNR(db) = 0.1\n",
      "BER = 0.050506666666665465\t\t\t SNR(db) = 0.2\n",
      "BER = 0.04701999999999893\t\t\t SNR(db) = 0.35\n",
      "BER = 0.047526666666665565\t\t\t SNR(db) = 0.5\n",
      "BER = 0.04320666666666572\t\t\t SNR(db) = 0.9\n",
      "BER = 0.036659999999999346\t\t\t SNR(db) = 1.5\n",
      "BER = 0.03204666666666622\t\t\t SNR(db) = 2.2\n",
      "BER = 0.026526666666666473\t\t\t SNR(db) = 3\n",
      "BER = 0.020719999999999947\t\t\t SNR(db) = 3.7\n",
      "BER = 0.017320000000000068\t\t\t SNR(db) = 4.3\n",
      "BER = 0.01510000000000014\t\t\t SNR(db) = 4.9\n"
     ]
    }
   ],
   "source": [
    "print(\"BERs for round-robin\\n-----------------\\n\")\n",
    "snrdb_vals = [0.1, 0.2, 0.35, 0.5, 0.9, 1.5, 2.2, 3, 3.7, 4.3, 4.9]\n",
    "bers_round_robin = []\n",
    "N = 10000\n",
    "for snrdb in snrdb_vals:\n",
    "    snr = math.pow(10,snrdb/20)\n",
    "    ber = getBER_round_robin(snr,H,C,100,N)\n",
    "    bers_round_robin.append(ber)\n",
    "    print(f\"BER = {ber}\\t\\t\\t SNR(db) = {snrdb}\")\n",
    "#     snrdb_vals.append(snrdb)"
   ]
  },
  {
   "cell_type": "code",
   "execution_count": 13,
   "id": "f23e98f5",
   "metadata": {},
   "outputs": [
    {
     "name": "stdout",
     "output_type": "stream",
     "text": [
      "For RR : \n",
      " [0.05097999999999882, 0.050506666666665465, 0.04701999999999893, 0.047526666666665565, 0.04320666666666572, 0.036659999999999346, 0.03204666666666622, 0.026526666666666473, 0.020719999999999947, 0.017320000000000068, 0.01510000000000014]\n",
      "For Flooding : \n",
      " [0.10109333333334035, 0.10088666666667416, 0.09908000000000743, 0.09604000000000677, 0.08928666666667322, 0.0784600000000042, 0.07056666666666958, 0.05982666666666724, 0.051219999999998114, 0.046546666666665015, 0.03915333333333203]\n"
     ]
    }
   ],
   "source": [
    "print(\"For RR : \\n\",bers_round_robin)\n",
    "print(\"For Flooding : \\n\",bers_flooding)"
   ]
  },
  {
   "cell_type": "markdown",
   "id": "f0ecb1b8",
   "metadata": {},
   "source": [
    "## Plotting the BERs vs SNR (dB)"
   ]
  },
  {
   "cell_type": "code",
   "execution_count": 14,
   "id": "cbc60026",
   "metadata": {},
   "outputs": [
    {
     "data": {
      "image/png": "[encoded data removed]",
      "text/plain": [
       "<Figure size 640x480 with 1 Axes>"
      ]
     },
     "metadata": {},
     "output_type": "display_data"
    }
   ],
   "source": [
    "plt.plot(snrdb_vals, bers_round_robin, 'o')  \n",
    "plt.plot(snrdb_vals, bers_round_robin, '--',label=\"Round Robin\")\n",
    "plt.plot(snrdb_vals, bers_flooding, 'o')  \n",
    "plt.plot(snrdb_vals, bers_flooding, '--',label=\"Flooding\")\n",
    "\n",
    "\n",
    "plt.title(\"BER vs SNR Plot\")\n",
    "plt.ylabel(\"BER\")\n",
    "plt.xlabel(\"SNR (in dB)\")\n",
    "plt.legend()\n",
    "plt.yscale('log')\n",
    "plt.grid(True, which=\"both\", ls=\"--\")\n",
    "\n"
   ]
  },
  {
   "cell_type": "markdown",
   "id": "de8f5746",
   "metadata": {},
   "source": [
    "# BER vs SNR for a 30x50 matrix"
   ]
  },
  {
   "cell_type": "code",
   "execution_count": 54,
   "id": "140f4e0e",
   "metadata": {},
   "outputs": [],
   "source": [
    "def circular_shift_identity(z, k):\n",
    "    \"\"\"\n",
    "    Generate a z x z identity matrix with circularly shifted rows by k positions.\n",
    "    If k == -1, return a z x z zero matrix.\n",
    "    \"\"\"\n",
    "    if k == -1:\n",
    "        return np.zeros((z, z), dtype=int)\n",
    "    else:\n",
    "        return np.roll(np.eye(z, dtype=int), -k, axis=1)\n",
    "\n",
    "def expand_base_matrix(B, z):\n",
    "    \"\"\"\n",
    "    Expand the base matrix B into the full parity check matrix with expansion factor z.\n",
    "\n",
    "    B: Base matrix of size m x n\n",
    "    z: Expansion factor\n",
    "\n",
    "    Returns the expanded parity-check matrix of size (m*z) x (n*z).\n",
    "    \"\"\"\n",
    "    m, n = B.shape\n",
    "    H = np.zeros((m * z, n * z), dtype=int)  # Full parity check matrix initialized to zeros\n",
    "\n",
    "    for i in range(m):\n",
    "        for j in range(n):\n",
    "            # Expand each base matrix element into a z x z block\n",
    "            block = circular_shift_identity(z, B[i, j])\n",
    "            H[i * z:(i + 1) * z, j * z:(j + 1) * z] = block\n",
    "\n",
    "    return H\n",
    "\n"
   ]
  },
  {
   "cell_type": "code",
   "execution_count": 2,
   "id": "d9f432cd",
   "metadata": {},
   "outputs": [],
   "source": [
    "# generates list of codewords corresponding to the parity check matrix H\n",
    "def get_codewords(H):\n",
    "    GF = galois.GF(2)\n",
    "    A = GF(H)\n",
    "    N = A.null_space()\n",
    "    vec = [np.array(v) for v in itertools.product([0, 1], repeat=N.shape[0])]\n",
    "    C = np.array(GF(vec) @ N)\n",
    "    return C"
   ]
  },
  {
   "cell_type": "code",
   "execution_count": 63,
   "id": "424b5289",
   "metadata": {},
   "outputs": [
    {
     "name": "stdout",
     "output_type": "stream",
     "text": [
      "B = \n",
      " [[ 0  2 -1  3 -1 -1  2  4  1  0]\n",
      " [ 3  1 -1 -1  0  0  1  2  3  0]\n",
      " [ 1  0  0 -1  1  4  2  1  0 -1]\n",
      " [-1  0  0  2  3 -1 -1 -1  0 -1]\n",
      " [ 1  0  2  0  1  0 -1 -1 -1 -1]\n",
      " [ 2  1  0  0  2 -1 -1 -1  1 -1]]\n",
      "H : \n",
      " [[1 0 0 ... 0 0 0]\n",
      " [0 1 0 ... 0 0 0]\n",
      " [0 0 1 ... 1 0 0]\n",
      " ...\n",
      " [1 0 0 ... 0 0 0]\n",
      " [0 1 0 ... 0 0 0]\n",
      " [0 0 1 ... 0 0 0]]\n",
      "Codewords : \n",
      " [[0 0 0 ... 0 0 0]\n",
      " [0 0 0 ... 0 0 0]\n",
      " [0 0 0 ... 0 0 0]\n",
      " ...\n",
      " [1 1 1 ... 1 1 1]\n",
      " [1 1 1 ... 1 1 1]\n",
      " [1 1 1 ... 1 1 1]]\n",
      "1048576  codewords found\n",
      "dmin =  9\n"
     ]
    }
   ],
   "source": [
    "B = np.array([[0,2,-1,3,-1,-1,2,4,1,0],\n",
    "            [3,1,-1,-1,0,0,1,2,3,0],\n",
    "            [1,0,0,-1,1,4,2,1,0,-1],\n",
    "            [-1,0,0,2,3,-1,-1,-1,0,-1],\n",
    "            [1,0,2,0,1,0,-1,-1,-1,-1],\n",
    "            [2,1,0,0,2,-1,-1,-1,1,-1]]\n",
    "            ,dtype=int)\n",
    "\n",
    "# B = np.array([[-1,0,1],\n",
    "#              [1,0,2]],dtype=int)\n",
    "print(\"B = \\n\",B)\n",
    "z = 5\n",
    "\n",
    "H = expand_base_matrix(B,z)\n",
    "np.savetxt('output.txt',H,fmt=\"%d\")\n",
    "print(\"H : \\n\",H)\n",
    "\n",
    "C = get_codewords(H)\n",
    "print(\"Codewords : \\n\",C)\n",
    "print(len(C),\" codewords found\")\n",
    "dmin = np.min(np.sum(C[1:],axis=1))\n",
    "print(\"dmin = \",dmin)\n",
    "\n"
   ]
  },
  {
   "cell_type": "code",
   "execution_count": 64,
   "id": "84489890",
   "metadata": {},
   "outputs": [],
   "source": [
    "def getBER_round_robin_1(snr,H,C,num_iter,N):\n",
    "    # this is for bsc, similarly do for others too\n",
    "    avg = 0\n",
    "    tg = Dec(H,\"bsc\",0,num_iter,6)\n",
    "    \n",
    "    for i in range(N):\n",
    "        c = C[np.random.choice(len(C))]\n",
    "        sigma = 1/math.sqrt(snr)\n",
    "        y = np.power(-1,c) + np.random.normal(loc=0, scale=sigma, size=c.shape)\n",
    "        c_hat = tg.decode(y)\n",
    "        c_hat = [1 if val else 0 for val in c_hat]\n",
    "        c_hat = np.array(c_hat)%2\n",
    "        e = np.sum((c_hat+c)%2)/len(c)\n",
    "        avg = avg + e\n",
    "    \n",
    "    return avg/N\n",
    "\n",
    "def getBER_flooding(snr,H,C,num_iter,N):\n",
    "    # this is for bsc, similarly do for others too\n",
    "    avg = 0\n",
    "    tg = Dec(H,\"bsc\",0,num_iter,H.shape[0])\n",
    "    \n",
    "    for i in range(N):\n",
    "        c = C[np.random.choice(len(C))]\n",
    "        sigma = 1/math.sqrt(snr)\n",
    "        y = np.power(- 1,c) + np.random.normal(loc=0, scale=sigma, size=c.shape)\n",
    "        c_hat = tg.decode(y)\n",
    "        c_hat = [1 if val else 0 for val in c_hat]\n",
    "        c_hat = np.array(c_hat)%2\n",
    "        e = np.sum((c_hat+c)%2)/len(c)\n",
    "        avg = avg + e\n",
    "    \n",
    "    return avg/N\n",
    "    "
   ]
  },
  {
   "cell_type": "code",
   "execution_count": 58,
   "id": "6a742b12",
   "metadata": {},
   "outputs": [
    {
     "name": "stdout",
     "output_type": "stream",
     "text": [
      "BERs for round-robin for 30x50 H \n",
      "-----------------\n",
      "\n",
      "BER = 0.13773000000000205\t\t\t SNR(db) = 0.1\n",
      "BER = 0.13153200000000162\t\t\t SNR(db) = 0.2\n",
      "BER = 0.12997800000000162\t\t\t SNR(db) = 0.35\n",
      "BER = 0.12320200000000087\t\t\t SNR(db) = 0.5\n",
      "BER = 0.11190200000000021\t\t\t SNR(db) = 0.9\n",
      "BER = 0.09557399999999984\t\t\t SNR(db) = 1.5\n",
      "BER = 0.07756200000000014\t\t\t SNR(db) = 2.2\n",
      "BER = 0.05423200000000053\t\t\t SNR(db) = 3\n",
      "BER = 0.039576000000000215\t\t\t SNR(db) = 3.7\n",
      "BER = 0.02949799999999999\t\t\t SNR(db) = 4.3\n",
      "BER = 0.020297999999999938\t\t\t SNR(db) = 4.9\n"
     ]
    }
   ],
   "source": [
    "print(\"BERs for round-robin for 30x50 H \\n-----------------\\n\")\n",
    "snrdb_vals = [0.1, 0.2, 0.35, 0.5, 0.9, 1.5, 2.2, 3, 3.7, 4.3, 4.9]\n",
    "bers_round_robin_1 = []\n",
    "N = 10000\n",
    "for snrdb in snrdb_vals:\n",
    "    snr = math.pow(10,snrdb/20)\n",
    "    ber = getBER_round_robin_1(snr,H,C,100,N)\n",
    "    bers_round_robin_1.append(ber)\n",
    "    print(f\"BER = {ber}\\t\\t\\t SNR(db) = {snrdb}\")\n",
    "#     snrdb_vals.append(snrdb)"
   ]
  },
  {
   "cell_type": "code",
   "execution_count": 67,
   "id": "7bef335e",
   "metadata": {},
   "outputs": [
    {
     "name": "stdout",
     "output_type": "stream",
     "text": [
      "BERs for flooding\n",
      "-----------------\n",
      "\n",
      "BER = 0.15761600000000003\t\t\t SNR(db) = 0.1\n",
      "BER = 0.1556239999999994\t\t\t SNR(db) = 0.2\n",
      "BER = 0.151217999999999\t\t\t SNR(db) = 0.35\n",
      "BER = 0.14899199999999796\t\t\t SNR(db) = 0.5\n",
      "BER = 0.14189399999999672\t\t\t SNR(db) = 0.9\n",
      "BER = 0.13072599999999665\t\t\t SNR(db) = 1.5\n",
      "BER = 0.11583999999999613\t\t\t SNR(db) = 2.2\n",
      "BER = 0.10008399999999693\t\t\t SNR(db) = 3\n",
      "BER = 0.0870999999999977\t\t\t SNR(db) = 3.7\n",
      "BER = 0.07640199999999761\t\t\t SNR(db) = 4.3\n",
      "BER = 0.06567599999999885\t\t\t SNR(db) = 4.9\n"
     ]
    }
   ],
   "source": [
    "print(\"BERs for flooding\\n-----------------\\n\")\n",
    "snrdb_vals = [0.1, 0.2, 0.35, 0.5, 0.9, 1.5, 2.2, 3, 3.7, 4.3, 4.9]\n",
    "bers_flooding_1 = []\n",
    "N = 10000\n",
    "for snrdb in snrdb_vals:\n",
    "    snr = math.pow(10,snrdb/20)\n",
    "    ber = getBER_flooding(snr,H,C,100,N)\n",
    "    bers_flooding_1.append(ber)\n",
    "    print(f\"BER = {ber}\\t\\t\\t SNR(db) = {snrdb}\")\n",
    "#     snrdb_vals.append(snrdb)"
   ]
  },
  {
   "cell_type": "code",
   "execution_count": 68,
   "id": "4ee93bb9",
   "metadata": {},
   "outputs": [
    {
     "name": "stdout",
     "output_type": "stream",
     "text": [
      "BERs for Round Robing : \n",
      " [0.13773000000000205, 0.13153200000000162, 0.12997800000000162, 0.12320200000000087, 0.11190200000000021, 0.09557399999999984, 0.07756200000000014, 0.05423200000000053, 0.039576000000000215, 0.02949799999999999, 0.020297999999999938]\n",
      "BERs for flooding :\n",
      " [0.15761600000000003, 0.1556239999999994, 0.151217999999999, 0.14899199999999796, 0.14189399999999672, 0.13072599999999665, 0.11583999999999613, 0.10008399999999693, 0.0870999999999977, 0.07640199999999761, 0.06567599999999885]\n"
     ]
    }
   ],
   "source": [
    "print(\"BERs for Round Robing : \\n\",bers_round_robin_1)\n",
    "print(\"BERs for flooding :\\n\",bers_flooding_1)"
   ]
  },
  {
   "cell_type": "code",
   "execution_count": 69,
   "id": "219866ec",
   "metadata": {},
   "outputs": [
    {
     "data": {
      "image/png": "[encoded data removed]",
      "text/plain": [
       "<Figure size 640x480 with 1 Axes>"
      ]
     },
     "metadata": {},
     "output_type": "display_data"
    }
   ],
   "source": [
    "plt.plot(snrdb_vals, bers_round_robin_1, 'o')  \n",
    "plt.plot(snrdb_vals, bers_round_robin_1, '--',label=\"Round Robin\")\n",
    "plt.plot(snrdb_vals, bers_flooding_1, 'o')  \n",
    "plt.plot(snrdb_vals, bers_flooding_1, '--',label=\"Flooding\")\n",
    "\n",
    "\n",
    "plt.title(\"BER vs SNR Plot\")\n",
    "plt.ylabel(\"BER\")\n",
    "plt.xlabel(\"SNR (in dB)\")\n",
    "plt.legend()\n",
    "plt.yscale('log')\n",
    "plt.grid(True, which=\"both\", ls=\"--\")\n",
    "plt.show()\n"
   ]
  },
  {
   "cell_type": "markdown",
   "id": "4a9d4165",
   "metadata": {},
   "source": [
    "### Finding number of iterations taken to converge"
   ]
  },
  {
   "cell_type": "code",
   "execution_count": 3,
   "id": "0037af30",
   "metadata": {},
   "outputs": [],
   "source": [
    "H = np.array( [[0,0,1,1,0,0,1,0,0,0,0,0,0,0,0]\n",
    ",[1,0,0,0,1,0,0,1,0,0,0,0,0,0,0]\n",
    ",[0,1,0,0,0,1,0,0,1,0,0,0,0,0,0]\n",
    ",[1,0,0,0,0,1,1,0,0,0,0,0,0,0,0]\n",
    ",[0,1,0,1,0,0,0,1,0,0,0,0,0,0,0]\n",
    ",[0,0,1,0,1,0,0,0,1,0,0,0,0,0,0]\n",
    ",[1,0,0,1,0,0,0,0,1,0,0,0,0,0,0]\n",
    ",[0,1,0,0,1,0,1,0,0,0,0,0,0,0,0]\n",
    ",[0,0,1,0,0,1,0,1,0,0,0,0,0,0,0]\n",
    ",[1,0,0,1,0,0,1,0,0,1,0,0,1,0,0]\n",
    ",[0,1,0,0,1,0,0,1,0,0,1,0,0,1,0]\n",
    ",[0,0,1,0,0,1,0,0,1,0,0,1,0,0,1]],dtype=int)\n",
    "n = H.shape[1]\n",
    "binary_vectors = [np.array(v) for v in itertools.product([0, 1], repeat=n)]\n",
    "C = []\n",
    "for c in binary_vectors:\n",
    "    if np.sum(np.dot(H,c.T)%2)==0:\n",
    "        C.append(c)\n",
    "\n",
    "\n",
    "# print(\"H : \\n\",H)\n",
    "C = get_codewords(H)\n",
    "# print(\"Codewords : \\n\",C)\n",
    "# print(len(C),\" codewords found\")\n",
    "dmin = np.min(np.sum(C[1:],axis=1))\n",
    "# print(\"dmin = \",dmin)\n",
    "\n",
    "\n"
   ]
  },
  {
   "cell_type": "code",
   "execution_count": 4,
   "id": "b2a9a339",
   "metadata": {},
   "outputs": [],
   "source": [
    "def get_avg_iters(H,C,N,snrdb,q,max_iter):\n",
    "    snr = math.pow(10,snrdb/20)\n",
    "    sigma = 1/math.sqrt(snr)\n",
    "    avg_i = 0\n",
    "\n",
    "    for i in range(N):\n",
    "        dec = Dec(H,None,None,max_iter,q)\n",
    "        c = C[np.random.choice(len(C))]\n",
    "        y = np.power(- 1,c) + np.random.normal(loc=0, scale=sigma, size=c.shape)\n",
    "        c_hat = dec.decode(y)\n",
    "        c_hat = [1 if val else 0 for val in c_hat]\n",
    "        c_hat = np.array(c_hat)%2\n",
    "        e = np.sum((c_hat+c)%2)/len(c)\n",
    "        i = dec.iteration_number\n",
    "        avg_i = avg_i + i\n",
    "\n",
    "    avg_i = avg_i/N\n",
    "    return avg_i\n",
    "\n",
    "    "
   ]
  },
  {
   "cell_type": "code",
   "execution_count": 11,
   "id": "779710bc",
   "metadata": {},
   "outputs": [
    {
     "name": "stdout",
     "output_type": "stream",
     "text": [
      "Average Number of iterations\n",
      "-------------------------------\n",
      "Decoder(size_cluster)\t#iters\n",
      "-------------------------------\n",
      "Flooding\t:\t484.515\n",
      "Round Robin(2)\t:\t5.015\n",
      "Round Robin(3)\t:\t3.645\n",
      "Round Robin(4)\t:\t3.6\n",
      "Round Robin(6)\t:\t21.49\n"
     ]
    },
    {
     "ename": "",
     "evalue": "",
     "output_type": "error",
     "traceback": [
      "\u001b[1;31mThe Kernel crashed while executing code in the current cell or a previous cell. \n",
      "\u001b[1;31mPlease review the code in the cell(s) to identify a possible cause of the failure. \n",
      "\u001b[1;31mClick <a href='https://aka.ms/vscodeJupyterKernelCrash'>here</a> for more info. \n",
      "\u001b[1;31mView Jupyter <a href='command:jupyter.viewOutput'>log</a> for further details."
     ]
    }
   ],
   "source": [
    "N = 200 # number of simulations\n",
    "snrdb = 2 # snr in dB\n",
    "q = 3 # cluster size\n",
    "max_iter = 1000 # max number of iterations for the decoder\n",
    "\n",
    "\n",
    "avg_i_rr2 = get_avg_iters(H,C,N,snrdb,2,max_iter)\n",
    "avg_i_rr3 = get_avg_iters(H,C,N,snrdb,3,max_iter)\n",
    "avg_i_rr4 = get_avg_iters(H,C,N,snrdb,4,max_iter)\n",
    "avg_i_rr6 = get_avg_iters(H,C,N,snrdb,6,max_iter)\n",
    "avg_i_fl = get_avg_iters(H,C,N,snrdb,H.shape[0],max_iter)\n",
    "\n",
    "print(f\"Average Number of iterations\\n-------------------------------\")\n",
    "print(\"Decoder(size_cluster)\\t#iters\\n-------------------------------\")\n",
    "print(f\"Flooding\\t:\\t{avg_i_fl}\")\n",
    "print(f\"Round Robin(2)\\t:\\t{avg_i_rr2}\")\n",
    "print(f\"Round Robin(3)\\t:\\t{avg_i_rr3}\")\n",
    "print(f\"Round Robin(4)\\t:\\t{avg_i_rr4}\")\n",
    "print(f\"Round Robin(6)\\t:\\t{avg_i_rr6}\")\n",
    "\n"
   ]
  },
  {
   "cell_type": "code",
   "execution_count": null,
   "id": "c320f125",
   "metadata": {},
   "outputs": [],
   "source": []
  },
  {
   "cell_type": "code",
   "execution_count": null,
   "id": "a549b565",
   "metadata": {},
   "outputs": [],
   "source": []
  }
 ],
 "metadata": {
  "kernelspec": {
   "display_name": "Python 3 (ipykernel)",
   "language": "python",
   "name": "python3"
  },
  "language_info": {
   "codemirror_mode": {
    "name": "ipython",
    "version": 3
   },
   "file_extension": ".py",
   "mimetype": "text/x-python",
   "name": "python",
   "nbconvert_exporter": "python",
   "pygments_lexer": "ipython3",
   "version": "3.9.0rc1"
  }
 },
 "nbformat": 4,
 "nbformat_minor": 5
}
